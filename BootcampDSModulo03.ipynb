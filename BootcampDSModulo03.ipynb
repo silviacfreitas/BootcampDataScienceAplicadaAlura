{
  "nbformat": 4,
  "nbformat_minor": 0,
  "metadata": {
    "colab": {
      "name": "BootcampDSModulo03.ipynb",
      "provenance": [],
      "collapsed_sections": [],
      "toc_visible": true,
      "mount_file_id": "1pENnYXiqWXq0kgsr0_pMvCq6ZWgGnoN2",
      "authorship_tag": "ABX9TyO7v5Fx8oZkRU2FLOUg09zT",
      "include_colab_link": true
    },
    "kernelspec": {
      "name": "python3",
      "display_name": "Python 3"
    }
  },
  "cells": [
    {
      "cell_type": "markdown",
      "metadata": {
        "id": "view-in-github",
        "colab_type": "text"
      },
      "source": [
        "<a href=\"https://colab.research.google.com/github/silviacfreitas/BootcampDataScienceAplicadaAlura/blob/main/BootcampDSModulo03.ipynb\" target=\"_parent\"><img src=\"https://colab.research.google.com/assets/colab-badge.svg\" alt=\"Open In Colab\"/></a>"
      ]
    },
    {
      "cell_type": "markdown",
      "metadata": {
        "id": "g3MucCe7PcEx"
      },
      "source": [
        "# Módulo 03"
      ]
    },
    {
      "cell_type": "markdown",
      "metadata": {
        "id": "oLE200pgPgBB"
      },
      "source": [
        "# Aula 01"
      ]
    },
    {
      "cell_type": "code",
      "metadata": {
        "id": "FdMIP21zQ6fc"
      },
      "source": [
        "import pandas as pd\r\n",
        "import numpy as np\r\n",
        "from zipfile import ZipFile"
      ],
      "execution_count": 1,
      "outputs": []
    },
    {
      "cell_type": "code",
      "metadata": {
        "id": "O8HuDZrqRTXz"
      },
      "source": [
        "url = \"/content/drive/MyDrive/BootcampDSModulo03/PeNSE_2015_AMOSTRA2.zip\"\n"
      ],
      "execution_count": 2,
      "outputs": []
    },
    {
      "cell_type": "code",
      "metadata": {
        "id": "vW9gMhg_GMBO"
      },
      "source": [
        "zip = ZipFile(url)"
      ],
      "execution_count": 3,
      "outputs": []
    },
    {
      "cell_type": "code",
      "metadata": {
        "colab": {
          "base_uri": "https://localhost:8080/"
        },
        "id": "3ENOL7ZOG7tJ",
        "outputId": "fbdaa96e-5824-4d7f-ebe0-fbe4b957e6f7"
      },
      "source": [
        "zip.infolist()"
      ],
      "execution_count": 4,
      "outputs": [
        {
          "output_type": "execute_result",
          "data": {
            "text/plain": [
              "[<ZipInfo filename='arquivos csv/' external_attr=0x10>,\n",
              " <ZipInfo filename='arquivos csv/PENSE_AMOSTRA2_ALUNO.CSV' compress_type=deflate external_attr=0x20 file_size=7262170 compress_size=1235667>,\n",
              " <ZipInfo filename='arquivos csv/PENSE_AMOSTRA2_ALUNOESCOLA.CSV' compress_type=deflate external_attr=0x20 file_size=11420533 compress_size=1329882>,\n",
              " <ZipInfo filename='arquivos csv/PENSE_AMOSTRA2_ESCOLA.CSV' compress_type=deflate external_attr=0x20 file_size=5000642 compress_size=114324>,\n",
              " <ZipInfo filename='arquivos sas/' external_attr=0x10>,\n",
              " <ZipInfo filename='arquivos sas/pense_amostra2_aluno.sas7bdat' compress_type=deflate external_attr=0x20 file_size=24691712 compress_size=1957530>,\n",
              " <ZipInfo filename='arquivos sas/pense_amostra2_alunoescola.sas7bdat' compress_type=deflate external_attr=0x20 file_size=45253632 compress_size=2461932>,\n",
              " <ZipInfo filename='arquivos sas/pense_amostra2_escola.sas7bdat' compress_type=deflate external_attr=0x20 file_size=18105344 compress_size=332162>,\n",
              " <ZipInfo filename='arquivos xlsx/' external_attr=0x10>,\n",
              " <ZipInfo filename='arquivos xlsx/PENSE_AMOSTRA2_ALUNO.xlsx' compress_type=deflate external_attr=0x20 file_size=11757246 compress_size=11337133>,\n",
              " <ZipInfo filename='arquivos xlsx/PENSE_AMOSTRA2_ALUNOESCOLA.xlsx' compress_type=deflate external_attr=0x20 file_size=18732739 compress_size=17064325>,\n",
              " <ZipInfo filename='arquivos xlsx/PENSE_AMOSTRA2_ESCOLA.xlsx' compress_type=deflate external_attr=0x20 file_size=7159579 compress_size=3209953>,\n",
              " <ZipInfo filename='Dicionario_PENSE_Microdados_AMOSTRA2.xls' compress_type=deflate external_attr=0x20 file_size=144896 compress_size=35737>]"
            ]
          },
          "metadata": {
            "tags": []
          },
          "execution_count": 4
        }
      ]
    },
    {
      "cell_type": "code",
      "metadata": {
        "colab": {
          "base_uri": "https://localhost:8080/"
        },
        "id": "w14OJ2ZCHTze",
        "outputId": "c363b41f-55c3-455e-b4c8-5b9c7827963f"
      },
      "source": [
        "zip.namelist()"
      ],
      "execution_count": 5,
      "outputs": [
        {
          "output_type": "execute_result",
          "data": {
            "text/plain": [
              "['arquivos csv/',\n",
              " 'arquivos csv/PENSE_AMOSTRA2_ALUNO.CSV',\n",
              " 'arquivos csv/PENSE_AMOSTRA2_ALUNOESCOLA.CSV',\n",
              " 'arquivos csv/PENSE_AMOSTRA2_ESCOLA.CSV',\n",
              " 'arquivos sas/',\n",
              " 'arquivos sas/pense_amostra2_aluno.sas7bdat',\n",
              " 'arquivos sas/pense_amostra2_alunoescola.sas7bdat',\n",
              " 'arquivos sas/pense_amostra2_escola.sas7bdat',\n",
              " 'arquivos xlsx/',\n",
              " 'arquivos xlsx/PENSE_AMOSTRA2_ALUNO.xlsx',\n",
              " 'arquivos xlsx/PENSE_AMOSTRA2_ALUNOESCOLA.xlsx',\n",
              " 'arquivos xlsx/PENSE_AMOSTRA2_ESCOLA.xlsx',\n",
              " 'Dicionario_PENSE_Microdados_AMOSTRA2.xls']"
            ]
          },
          "metadata": {
            "tags": []
          },
          "execution_count": 5
        }
      ]
    },
    {
      "cell_type": "code",
      "metadata": {
        "colab": {
          "base_uri": "https://localhost:8080/",
          "height": 35
        },
        "id": "7jaa8KH7IiEg",
        "outputId": "2e80dfe6-c04d-41ed-9417-92f0f8b4da33"
      },
      "source": [
        "caminho_pasta_zipada = zip.namelist()[1]\r\n",
        "caminho_pasta_zipada"
      ],
      "execution_count": 6,
      "outputs": [
        {
          "output_type": "execute_result",
          "data": {
            "application/vnd.google.colaboratory.intrinsic+json": {
              "type": "string"
            },
            "text/plain": [
              "'arquivos csv/PENSE_AMOSTRA2_ALUNO.CSV'"
            ]
          },
          "metadata": {
            "tags": []
          },
          "execution_count": 6
        }
      ]
    },
    {
      "cell_type": "code",
      "metadata": {
        "colab": {
          "base_uri": "https://localhost:8080/",
          "height": 253
        },
        "id": "_tGbsL4CGO8b",
        "outputId": "3ae0f673-0538-498a-ed23-0bd5256dfa62"
      },
      "source": [
        "dados = pd.read_csv(zip.open(caminho_pasta_zipada), sep=\";\", thousands='.', decimal=',')\r\n",
        "dados.head()"
      ],
      "execution_count": 7,
      "outputs": [
        {
          "output_type": "execute_result",
          "data": {
            "text/html": [
              "<div>\n",
              "<style scoped>\n",
              "    .dataframe tbody tr th:only-of-type {\n",
              "        vertical-align: middle;\n",
              "    }\n",
              "\n",
              "    .dataframe tbody tr th {\n",
              "        vertical-align: top;\n",
              "    }\n",
              "\n",
              "    .dataframe thead th {\n",
              "        text-align: right;\n",
              "    }\n",
              "</style>\n",
              "<table border=\"1\" class=\"dataframe\">\n",
              "  <thead>\n",
              "    <tr style=\"text-align: right;\">\n",
              "      <th></th>\n",
              "      <th>ANOPESQ</th>\n",
              "      <th>PAIS</th>\n",
              "      <th>REGEOGR</th>\n",
              "      <th>VB00004</th>\n",
              "      <th>VB01001</th>\n",
              "      <th>VB01002</th>\n",
              "      <th>VB01003</th>\n",
              "      <th>VB01004</th>\n",
              "      <th>VB01005</th>\n",
              "      <th>VB01006</th>\n",
              "      <th>VB01007</th>\n",
              "      <th>VB01008A</th>\n",
              "      <th>VB01010A</th>\n",
              "      <th>VB01011</th>\n",
              "      <th>VB01012</th>\n",
              "      <th>VB01013</th>\n",
              "      <th>VB01014</th>\n",
              "      <th>VB01015A</th>\n",
              "      <th>VB01016</th>\n",
              "      <th>VB01017</th>\n",
              "      <th>VB01018</th>\n",
              "      <th>VB01019</th>\n",
              "      <th>VB01020A</th>\n",
              "      <th>VB01021</th>\n",
              "      <th>VB01022</th>\n",
              "      <th>VB01023</th>\n",
              "      <th>VB01024</th>\n",
              "      <th>VB01025</th>\n",
              "      <th>VB01026</th>\n",
              "      <th>VB02001</th>\n",
              "      <th>VB02002</th>\n",
              "      <th>VB02004A</th>\n",
              "      <th>VB02010</th>\n",
              "      <th>VB02011</th>\n",
              "      <th>VB02013</th>\n",
              "      <th>VB02017A</th>\n",
              "      <th>VB02018A</th>\n",
              "      <th>VB02019A</th>\n",
              "      <th>VB02020A</th>\n",
              "      <th>VB02021</th>\n",
              "      <th>...</th>\n",
              "      <th>VB11005</th>\n",
              "      <th>VB11006</th>\n",
              "      <th>VB11007</th>\n",
              "      <th>VB12001</th>\n",
              "      <th>VB12002</th>\n",
              "      <th>VB12003</th>\n",
              "      <th>VB13001</th>\n",
              "      <th>VB13002A</th>\n",
              "      <th>VB13004A</th>\n",
              "      <th>VB13005</th>\n",
              "      <th>VB13006</th>\n",
              "      <th>VB13007</th>\n",
              "      <th>VB13008</th>\n",
              "      <th>VB13009</th>\n",
              "      <th>VB14001</th>\n",
              "      <th>VB14002</th>\n",
              "      <th>VB16001A01</th>\n",
              "      <th>VB16001A02</th>\n",
              "      <th>VB16001A03</th>\n",
              "      <th>VB16001A04</th>\n",
              "      <th>VB16001A05</th>\n",
              "      <th>VB16001A06</th>\n",
              "      <th>VB16001A07</th>\n",
              "      <th>VB16001A08</th>\n",
              "      <th>VB17001</th>\n",
              "      <th>VB17002</th>\n",
              "      <th>VB17003</th>\n",
              "      <th>VB17004</th>\n",
              "      <th>VB17005</th>\n",
              "      <th>VB17006</th>\n",
              "      <th>ESTRATO_EXP</th>\n",
              "      <th>ESTRATOGEOREG</th>\n",
              "      <th>PESO</th>\n",
              "      <th>V0006</th>\n",
              "      <th>V0007</th>\n",
              "      <th>V0008</th>\n",
              "      <th>V0041</th>\n",
              "      <th>aluno</th>\n",
              "      <th>escola</th>\n",
              "      <th>turma</th>\n",
              "    </tr>\n",
              "  </thead>\n",
              "  <tbody>\n",
              "    <tr>\n",
              "      <th>0</th>\n",
              "      <td>2015</td>\n",
              "      <td>76</td>\n",
              "      <td>1</td>\n",
              "      <td>1</td>\n",
              "      <td>2</td>\n",
              "      <td>1</td>\n",
              "      <td>13</td>\n",
              "      <td>7</td>\n",
              "      <td>7</td>\n",
              "      <td>1</td>\n",
              "      <td>2</td>\n",
              "      <td>7</td>\n",
              "      <td>3</td>\n",
              "      <td>2</td>\n",
              "      <td>-1</td>\n",
              "      <td>1</td>\n",
              "      <td>1</td>\n",
              "      <td>1</td>\n",
              "      <td>1</td>\n",
              "      <td>1</td>\n",
              "      <td>2</td>\n",
              "      <td>4</td>\n",
              "      <td>2</td>\n",
              "      <td>4</td>\n",
              "      <td>1</td>\n",
              "      <td>2</td>\n",
              "      <td>2</td>\n",
              "      <td>5</td>\n",
              "      <td>1</td>\n",
              "      <td>8</td>\n",
              "      <td>3</td>\n",
              "      <td>4</td>\n",
              "      <td>3</td>\n",
              "      <td>6</td>\n",
              "      <td>6</td>\n",
              "      <td>1</td>\n",
              "      <td>6</td>\n",
              "      <td>1</td>\n",
              "      <td>-1</td>\n",
              "      <td>2</td>\n",
              "      <td>...</td>\n",
              "      <td>2</td>\n",
              "      <td>1</td>\n",
              "      <td>2</td>\n",
              "      <td>1</td>\n",
              "      <td>1</td>\n",
              "      <td>4</td>\n",
              "      <td>2</td>\n",
              "      <td>-1</td>\n",
              "      <td>3</td>\n",
              "      <td>1</td>\n",
              "      <td>1</td>\n",
              "      <td>-1</td>\n",
              "      <td>1</td>\n",
              "      <td>1</td>\n",
              "      <td>2</td>\n",
              "      <td>2</td>\n",
              "      <td>1</td>\n",
              "      <td>2</td>\n",
              "      <td>2</td>\n",
              "      <td>2</td>\n",
              "      <td>2</td>\n",
              "      <td>2</td>\n",
              "      <td>2</td>\n",
              "      <td>2</td>\n",
              "      <td>371.0</td>\n",
              "      <td>1570.0</td>\n",
              "      <td>37.1</td>\n",
              "      <td>157.0</td>\n",
              "      <td>2</td>\n",
              "      <td>1</td>\n",
              "      <td>1223</td>\n",
              "      <td>1</td>\n",
              "      <td>299.735235</td>\n",
              "      <td>1</td>\n",
              "      <td>2</td>\n",
              "      <td>4</td>\n",
              "      <td>1</td>\n",
              "      <td>1</td>\n",
              "      <td>1</td>\n",
              "      <td>296</td>\n",
              "    </tr>\n",
              "    <tr>\n",
              "      <th>1</th>\n",
              "      <td>2015</td>\n",
              "      <td>76</td>\n",
              "      <td>1</td>\n",
              "      <td>1</td>\n",
              "      <td>2</td>\n",
              "      <td>1</td>\n",
              "      <td>14</td>\n",
              "      <td>4</td>\n",
              "      <td>7</td>\n",
              "      <td>1</td>\n",
              "      <td>1</td>\n",
              "      <td>7</td>\n",
              "      <td>3</td>\n",
              "      <td>2</td>\n",
              "      <td>-1</td>\n",
              "      <td>1</td>\n",
              "      <td>1</td>\n",
              "      <td>1</td>\n",
              "      <td>1</td>\n",
              "      <td>1</td>\n",
              "      <td>2</td>\n",
              "      <td>2</td>\n",
              "      <td>2</td>\n",
              "      <td>4</td>\n",
              "      <td>1</td>\n",
              "      <td>2</td>\n",
              "      <td>2</td>\n",
              "      <td>5</td>\n",
              "      <td>3</td>\n",
              "      <td>8</td>\n",
              "      <td>2</td>\n",
              "      <td>1</td>\n",
              "      <td>8</td>\n",
              "      <td>8</td>\n",
              "      <td>6</td>\n",
              "      <td>1</td>\n",
              "      <td>1</td>\n",
              "      <td>5</td>\n",
              "      <td>-1</td>\n",
              "      <td>2</td>\n",
              "      <td>...</td>\n",
              "      <td>2</td>\n",
              "      <td>3</td>\n",
              "      <td>2</td>\n",
              "      <td>4</td>\n",
              "      <td>4</td>\n",
              "      <td>4</td>\n",
              "      <td>1</td>\n",
              "      <td>2</td>\n",
              "      <td>3</td>\n",
              "      <td>3</td>\n",
              "      <td>1</td>\n",
              "      <td>-1</td>\n",
              "      <td>1</td>\n",
              "      <td>1</td>\n",
              "      <td>2</td>\n",
              "      <td>2</td>\n",
              "      <td>2</td>\n",
              "      <td>2</td>\n",
              "      <td>2</td>\n",
              "      <td>1</td>\n",
              "      <td>2</td>\n",
              "      <td>2</td>\n",
              "      <td>2</td>\n",
              "      <td>2</td>\n",
              "      <td>502.0</td>\n",
              "      <td>1520.0</td>\n",
              "      <td>50.2</td>\n",
              "      <td>152.0</td>\n",
              "      <td>2</td>\n",
              "      <td>2</td>\n",
              "      <td>1223</td>\n",
              "      <td>1</td>\n",
              "      <td>355.170081</td>\n",
              "      <td>1</td>\n",
              "      <td>2</td>\n",
              "      <td>4</td>\n",
              "      <td>1</td>\n",
              "      <td>2</td>\n",
              "      <td>1</td>\n",
              "      <td>296</td>\n",
              "    </tr>\n",
              "    <tr>\n",
              "      <th>2</th>\n",
              "      <td>2015</td>\n",
              "      <td>76</td>\n",
              "      <td>1</td>\n",
              "      <td>1</td>\n",
              "      <td>1</td>\n",
              "      <td>4</td>\n",
              "      <td>13</td>\n",
              "      <td>6</td>\n",
              "      <td>7</td>\n",
              "      <td>1</td>\n",
              "      <td>1</td>\n",
              "      <td>5</td>\n",
              "      <td>5</td>\n",
              "      <td>2</td>\n",
              "      <td>-1</td>\n",
              "      <td>2</td>\n",
              "      <td>1</td>\n",
              "      <td>1</td>\n",
              "      <td>1</td>\n",
              "      <td>1</td>\n",
              "      <td>2</td>\n",
              "      <td>3</td>\n",
              "      <td>1</td>\n",
              "      <td>4</td>\n",
              "      <td>1</td>\n",
              "      <td>2</td>\n",
              "      <td>2</td>\n",
              "      <td>5</td>\n",
              "      <td>3</td>\n",
              "      <td>2</td>\n",
              "      <td>3</td>\n",
              "      <td>1</td>\n",
              "      <td>8</td>\n",
              "      <td>2</td>\n",
              "      <td>8</td>\n",
              "      <td>1</td>\n",
              "      <td>1</td>\n",
              "      <td>5</td>\n",
              "      <td>5</td>\n",
              "      <td>1</td>\n",
              "      <td>...</td>\n",
              "      <td>2</td>\n",
              "      <td>1</td>\n",
              "      <td>2</td>\n",
              "      <td>1</td>\n",
              "      <td>2</td>\n",
              "      <td>3</td>\n",
              "      <td>1</td>\n",
              "      <td>2</td>\n",
              "      <td>1</td>\n",
              "      <td>2</td>\n",
              "      <td>5</td>\n",
              "      <td>99</td>\n",
              "      <td>1</td>\n",
              "      <td>-1</td>\n",
              "      <td>2</td>\n",
              "      <td>2</td>\n",
              "      <td>1</td>\n",
              "      <td>1</td>\n",
              "      <td>1</td>\n",
              "      <td>1</td>\n",
              "      <td>1</td>\n",
              "      <td>1</td>\n",
              "      <td>1</td>\n",
              "      <td>1</td>\n",
              "      <td>482.0</td>\n",
              "      <td>1614.0</td>\n",
              "      <td>48.2</td>\n",
              "      <td>161.4</td>\n",
              "      <td>2</td>\n",
              "      <td>2</td>\n",
              "      <td>1223</td>\n",
              "      <td>1</td>\n",
              "      <td>299.735235</td>\n",
              "      <td>1</td>\n",
              "      <td>2</td>\n",
              "      <td>4</td>\n",
              "      <td>1</td>\n",
              "      <td>3</td>\n",
              "      <td>1</td>\n",
              "      <td>296</td>\n",
              "    </tr>\n",
              "    <tr>\n",
              "      <th>3</th>\n",
              "      <td>2015</td>\n",
              "      <td>76</td>\n",
              "      <td>1</td>\n",
              "      <td>1</td>\n",
              "      <td>1</td>\n",
              "      <td>1</td>\n",
              "      <td>14</td>\n",
              "      <td>6</td>\n",
              "      <td>7</td>\n",
              "      <td>1</td>\n",
              "      <td>1</td>\n",
              "      <td>7</td>\n",
              "      <td>4</td>\n",
              "      <td>2</td>\n",
              "      <td>-1</td>\n",
              "      <td>1</td>\n",
              "      <td>1</td>\n",
              "      <td>1</td>\n",
              "      <td>1</td>\n",
              "      <td>1</td>\n",
              "      <td>2</td>\n",
              "      <td>4</td>\n",
              "      <td>2</td>\n",
              "      <td>4</td>\n",
              "      <td>1</td>\n",
              "      <td>2</td>\n",
              "      <td>2</td>\n",
              "      <td>6</td>\n",
              "      <td>3</td>\n",
              "      <td>2</td>\n",
              "      <td>4</td>\n",
              "      <td>1</td>\n",
              "      <td>3</td>\n",
              "      <td>2</td>\n",
              "      <td>7</td>\n",
              "      <td>1</td>\n",
              "      <td>5</td>\n",
              "      <td>1</td>\n",
              "      <td>-1</td>\n",
              "      <td>2</td>\n",
              "      <td>...</td>\n",
              "      <td>2</td>\n",
              "      <td>1</td>\n",
              "      <td>2</td>\n",
              "      <td>2</td>\n",
              "      <td>2</td>\n",
              "      <td>4</td>\n",
              "      <td>1</td>\n",
              "      <td>10</td>\n",
              "      <td>3</td>\n",
              "      <td>1</td>\n",
              "      <td>2</td>\n",
              "      <td>-1</td>\n",
              "      <td>1</td>\n",
              "      <td>-1</td>\n",
              "      <td>2</td>\n",
              "      <td>2</td>\n",
              "      <td>1</td>\n",
              "      <td>2</td>\n",
              "      <td>2</td>\n",
              "      <td>2</td>\n",
              "      <td>1</td>\n",
              "      <td>2</td>\n",
              "      <td>2</td>\n",
              "      <td>2</td>\n",
              "      <td>694.0</td>\n",
              "      <td>1725.0</td>\n",
              "      <td>69.4</td>\n",
              "      <td>172.5</td>\n",
              "      <td>2</td>\n",
              "      <td>3</td>\n",
              "      <td>1223</td>\n",
              "      <td>1</td>\n",
              "      <td>355.170081</td>\n",
              "      <td>1</td>\n",
              "      <td>2</td>\n",
              "      <td>4</td>\n",
              "      <td>1</td>\n",
              "      <td>4</td>\n",
              "      <td>1</td>\n",
              "      <td>296</td>\n",
              "    </tr>\n",
              "    <tr>\n",
              "      <th>4</th>\n",
              "      <td>2015</td>\n",
              "      <td>76</td>\n",
              "      <td>1</td>\n",
              "      <td>1</td>\n",
              "      <td>1</td>\n",
              "      <td>1</td>\n",
              "      <td>13</td>\n",
              "      <td>9</td>\n",
              "      <td>7</td>\n",
              "      <td>1</td>\n",
              "      <td>2</td>\n",
              "      <td>5</td>\n",
              "      <td>4</td>\n",
              "      <td>2</td>\n",
              "      <td>-1</td>\n",
              "      <td>2</td>\n",
              "      <td>1</td>\n",
              "      <td>1</td>\n",
              "      <td>1</td>\n",
              "      <td>1</td>\n",
              "      <td>2</td>\n",
              "      <td>5</td>\n",
              "      <td>1</td>\n",
              "      <td>4</td>\n",
              "      <td>1</td>\n",
              "      <td>2</td>\n",
              "      <td>2</td>\n",
              "      <td>6</td>\n",
              "      <td>5</td>\n",
              "      <td>6</td>\n",
              "      <td>3</td>\n",
              "      <td>5</td>\n",
              "      <td>2</td>\n",
              "      <td>6</td>\n",
              "      <td>2</td>\n",
              "      <td>1</td>\n",
              "      <td>5</td>\n",
              "      <td>1</td>\n",
              "      <td>5</td>\n",
              "      <td>1</td>\n",
              "      <td>...</td>\n",
              "      <td>2</td>\n",
              "      <td>1</td>\n",
              "      <td>4</td>\n",
              "      <td>2</td>\n",
              "      <td>2</td>\n",
              "      <td>4</td>\n",
              "      <td>1</td>\n",
              "      <td>3</td>\n",
              "      <td>2</td>\n",
              "      <td>2</td>\n",
              "      <td>2</td>\n",
              "      <td>13</td>\n",
              "      <td>1</td>\n",
              "      <td>-1</td>\n",
              "      <td>1</td>\n",
              "      <td>2</td>\n",
              "      <td>1</td>\n",
              "      <td>1</td>\n",
              "      <td>1</td>\n",
              "      <td>1</td>\n",
              "      <td>1</td>\n",
              "      <td>1</td>\n",
              "      <td>1</td>\n",
              "      <td>1</td>\n",
              "      <td>789.0</td>\n",
              "      <td>1675.0</td>\n",
              "      <td>78.9</td>\n",
              "      <td>167.5</td>\n",
              "      <td>2</td>\n",
              "      <td>4</td>\n",
              "      <td>1223</td>\n",
              "      <td>1</td>\n",
              "      <td>299.735235</td>\n",
              "      <td>1</td>\n",
              "      <td>2</td>\n",
              "      <td>4</td>\n",
              "      <td>1</td>\n",
              "      <td>5</td>\n",
              "      <td>1</td>\n",
              "      <td>296</td>\n",
              "    </tr>\n",
              "  </tbody>\n",
              "</table>\n",
              "<p>5 rows × 181 columns</p>\n",
              "</div>"
            ],
            "text/plain": [
              "   ANOPESQ  PAIS  REGEOGR  VB00004  VB01001  ...  V0008  V0041  aluno  escola  turma\n",
              "0     2015    76        1        1        2  ...      4      1      1       1    296\n",
              "1     2015    76        1        1        2  ...      4      1      2       1    296\n",
              "2     2015    76        1        1        1  ...      4      1      3       1    296\n",
              "3     2015    76        1        1        1  ...      4      1      4       1    296\n",
              "4     2015    76        1        1        1  ...      4      1      5       1    296\n",
              "\n",
              "[5 rows x 181 columns]"
            ]
          },
          "metadata": {
            "tags": []
          },
          "execution_count": 7
        }
      ]
    },
    {
      "cell_type": "markdown",
      "metadata": {
        "id": "pwTfYKEnPNYv"
      },
      "source": [
        "### Desafio 01: Descompactar a pasta usando comandos Bash"
      ]
    },
    {
      "cell_type": "markdown",
      "metadata": {
        "id": "orV4EQSPXdP1"
      },
      "source": [
        "O Colab utiliza Linux, portanto é possível utilizar os comandos bash para acessar pastas e arquivos"
      ]
    },
    {
      "cell_type": "code",
      "metadata": {
        "colab": {
          "base_uri": "https://localhost:8080/"
        },
        "id": "2R-0QfTZMpnr",
        "outputId": "5701dce8-cecb-45b4-bc01-82667348da70"
      },
      "source": [
        "!ls"
      ],
      "execution_count": 8,
      "outputs": [
        {
          "output_type": "stream",
          "text": [
            "drive  sample_data\n"
          ],
          "name": "stdout"
        }
      ]
    },
    {
      "cell_type": "code",
      "metadata": {
        "colab": {
          "base_uri": "https://localhost:8080/"
        },
        "id": "YqrwLSIUNIcp",
        "outputId": "533d646f-b37e-4736-9da7-23132ba64a27"
      },
      "source": [
        "cd drive"
      ],
      "execution_count": 9,
      "outputs": [
        {
          "output_type": "stream",
          "text": [
            "/content/drive\n"
          ],
          "name": "stdout"
        }
      ]
    },
    {
      "cell_type": "code",
      "metadata": {
        "colab": {
          "base_uri": "https://localhost:8080/"
        },
        "id": "oYtpAKX2NOXZ",
        "outputId": "e2c16224-ba65-4978-8238-761271c9cba2"
      },
      "source": [
        "cd MyDrive/"
      ],
      "execution_count": 10,
      "outputs": [
        {
          "output_type": "stream",
          "text": [
            "/content/drive/MyDrive\n"
          ],
          "name": "stdout"
        }
      ]
    },
    {
      "cell_type": "code",
      "metadata": {
        "colab": {
          "base_uri": "https://localhost:8080/"
        },
        "id": "N9G9IZZhNRQm",
        "outputId": "59cdbc1d-dc05-4ef4-f204-fea626878c33"
      },
      "source": [
        "cd BootcampDSModulo03/"
      ],
      "execution_count": 11,
      "outputs": [
        {
          "output_type": "stream",
          "text": [
            "/content/drive/MyDrive/BootcampDSModulo03\n"
          ],
          "name": "stdout"
        }
      ]
    },
    {
      "cell_type": "code",
      "metadata": {
        "id": "RmQTHnoPRHqE"
      },
      "source": [
        "#!unzip PeNSE_2015_AMOSTRA2.zip\r\n",
        "# a pasta já havia sido descompactada no teste, por isso não é necessário rodar este comando novamente"
      ],
      "execution_count": 12,
      "outputs": []
    },
    {
      "cell_type": "code",
      "metadata": {
        "colab": {
          "base_uri": "https://localhost:8080/"
        },
        "id": "vyC_LAnRNVBi",
        "outputId": "9a8b07fa-1016-42d7-a304-8eee242217dd"
      },
      "source": [
        "ls"
      ],
      "execution_count": 13,
      "outputs": [
        {
          "output_type": "stream",
          "text": [
            "\u001b[0m\u001b[01;34m'arquivos csv'\u001b[0m/    BootcampDSModulo03.ipynb\n",
            "\u001b[01;34m'arquivos sas'\u001b[0m/    Dicionario_PENSE_Microdados_AMOSTRA2.xls\n",
            "\u001b[01;34m'arquivos xlsx'\u001b[0m/   PeNSE_2015_AMOSTRA2.zip\n"
          ],
          "name": "stdout"
        }
      ]
    },
    {
      "cell_type": "code",
      "metadata": {
        "colab": {
          "base_uri": "https://localhost:8080/"
        },
        "id": "F3nQPPUgOZ3W",
        "outputId": "7608d159-9da3-477c-a515-8adebe19fb93"
      },
      "source": [
        "cd arquivos\\ csv"
      ],
      "execution_count": 14,
      "outputs": [
        {
          "output_type": "stream",
          "text": [
            "/content/drive/MyDrive/BootcampDSModulo03/arquivos csv\n"
          ],
          "name": "stdout"
        }
      ]
    },
    {
      "cell_type": "code",
      "metadata": {
        "colab": {
          "base_uri": "https://localhost:8080/"
        },
        "id": "La8p8RbTOh4x",
        "outputId": "b1bd1687-0c05-4c0c-e664-166bbc8440a3"
      },
      "source": [
        "ls"
      ],
      "execution_count": 15,
      "outputs": [
        {
          "output_type": "stream",
          "text": [
            "PENSE_AMOSTRA2_ALUNO.CSV        PENSE_AMOSTRA2_ESCOLA.CSV\n",
            "PENSE_AMOSTRA2_ALUNOESCOLA.CSV\n"
          ],
          "name": "stdout"
        }
      ]
    },
    {
      "cell_type": "code",
      "metadata": {
        "id": "gdatj3qJOi9B"
      },
      "source": [
        "caminho = '/content/drive/My Drive/BootcampDSModulo03/arquivos csv/PENSE_AMOSTRA2_ALUNO.CSV'"
      ],
      "execution_count": 16,
      "outputs": []
    },
    {
      "cell_type": "code",
      "metadata": {
        "colab": {
          "base_uri": "https://localhost:8080/",
          "height": 253
        },
        "id": "dkYF8f1NO07E",
        "outputId": "c6dc9456-9139-4058-8626-0efa33945f8a"
      },
      "source": [
        "dados = pd.read_csv(caminho, sep=';', thousands='.', decimal=',')\r\n",
        "dados.head()"
      ],
      "execution_count": 17,
      "outputs": [
        {
          "output_type": "execute_result",
          "data": {
            "text/html": [
              "<div>\n",
              "<style scoped>\n",
              "    .dataframe tbody tr th:only-of-type {\n",
              "        vertical-align: middle;\n",
              "    }\n",
              "\n",
              "    .dataframe tbody tr th {\n",
              "        vertical-align: top;\n",
              "    }\n",
              "\n",
              "    .dataframe thead th {\n",
              "        text-align: right;\n",
              "    }\n",
              "</style>\n",
              "<table border=\"1\" class=\"dataframe\">\n",
              "  <thead>\n",
              "    <tr style=\"text-align: right;\">\n",
              "      <th></th>\n",
              "      <th>ANOPESQ</th>\n",
              "      <th>PAIS</th>\n",
              "      <th>REGEOGR</th>\n",
              "      <th>VB00004</th>\n",
              "      <th>VB01001</th>\n",
              "      <th>VB01002</th>\n",
              "      <th>VB01003</th>\n",
              "      <th>VB01004</th>\n",
              "      <th>VB01005</th>\n",
              "      <th>VB01006</th>\n",
              "      <th>VB01007</th>\n",
              "      <th>VB01008A</th>\n",
              "      <th>VB01010A</th>\n",
              "      <th>VB01011</th>\n",
              "      <th>VB01012</th>\n",
              "      <th>VB01013</th>\n",
              "      <th>VB01014</th>\n",
              "      <th>VB01015A</th>\n",
              "      <th>VB01016</th>\n",
              "      <th>VB01017</th>\n",
              "      <th>VB01018</th>\n",
              "      <th>VB01019</th>\n",
              "      <th>VB01020A</th>\n",
              "      <th>VB01021</th>\n",
              "      <th>VB01022</th>\n",
              "      <th>VB01023</th>\n",
              "      <th>VB01024</th>\n",
              "      <th>VB01025</th>\n",
              "      <th>VB01026</th>\n",
              "      <th>VB02001</th>\n",
              "      <th>VB02002</th>\n",
              "      <th>VB02004A</th>\n",
              "      <th>VB02010</th>\n",
              "      <th>VB02011</th>\n",
              "      <th>VB02013</th>\n",
              "      <th>VB02017A</th>\n",
              "      <th>VB02018A</th>\n",
              "      <th>VB02019A</th>\n",
              "      <th>VB02020A</th>\n",
              "      <th>VB02021</th>\n",
              "      <th>...</th>\n",
              "      <th>VB11005</th>\n",
              "      <th>VB11006</th>\n",
              "      <th>VB11007</th>\n",
              "      <th>VB12001</th>\n",
              "      <th>VB12002</th>\n",
              "      <th>VB12003</th>\n",
              "      <th>VB13001</th>\n",
              "      <th>VB13002A</th>\n",
              "      <th>VB13004A</th>\n",
              "      <th>VB13005</th>\n",
              "      <th>VB13006</th>\n",
              "      <th>VB13007</th>\n",
              "      <th>VB13008</th>\n",
              "      <th>VB13009</th>\n",
              "      <th>VB14001</th>\n",
              "      <th>VB14002</th>\n",
              "      <th>VB16001A01</th>\n",
              "      <th>VB16001A02</th>\n",
              "      <th>VB16001A03</th>\n",
              "      <th>VB16001A04</th>\n",
              "      <th>VB16001A05</th>\n",
              "      <th>VB16001A06</th>\n",
              "      <th>VB16001A07</th>\n",
              "      <th>VB16001A08</th>\n",
              "      <th>VB17001</th>\n",
              "      <th>VB17002</th>\n",
              "      <th>VB17003</th>\n",
              "      <th>VB17004</th>\n",
              "      <th>VB17005</th>\n",
              "      <th>VB17006</th>\n",
              "      <th>ESTRATO_EXP</th>\n",
              "      <th>ESTRATOGEOREG</th>\n",
              "      <th>PESO</th>\n",
              "      <th>V0006</th>\n",
              "      <th>V0007</th>\n",
              "      <th>V0008</th>\n",
              "      <th>V0041</th>\n",
              "      <th>aluno</th>\n",
              "      <th>escola</th>\n",
              "      <th>turma</th>\n",
              "    </tr>\n",
              "  </thead>\n",
              "  <tbody>\n",
              "    <tr>\n",
              "      <th>0</th>\n",
              "      <td>2015</td>\n",
              "      <td>76</td>\n",
              "      <td>1</td>\n",
              "      <td>1</td>\n",
              "      <td>2</td>\n",
              "      <td>1</td>\n",
              "      <td>13</td>\n",
              "      <td>7</td>\n",
              "      <td>7</td>\n",
              "      <td>1</td>\n",
              "      <td>2</td>\n",
              "      <td>7</td>\n",
              "      <td>3</td>\n",
              "      <td>2</td>\n",
              "      <td>-1</td>\n",
              "      <td>1</td>\n",
              "      <td>1</td>\n",
              "      <td>1</td>\n",
              "      <td>1</td>\n",
              "      <td>1</td>\n",
              "      <td>2</td>\n",
              "      <td>4</td>\n",
              "      <td>2</td>\n",
              "      <td>4</td>\n",
              "      <td>1</td>\n",
              "      <td>2</td>\n",
              "      <td>2</td>\n",
              "      <td>5</td>\n",
              "      <td>1</td>\n",
              "      <td>8</td>\n",
              "      <td>3</td>\n",
              "      <td>4</td>\n",
              "      <td>3</td>\n",
              "      <td>6</td>\n",
              "      <td>6</td>\n",
              "      <td>1</td>\n",
              "      <td>6</td>\n",
              "      <td>1</td>\n",
              "      <td>-1</td>\n",
              "      <td>2</td>\n",
              "      <td>...</td>\n",
              "      <td>2</td>\n",
              "      <td>1</td>\n",
              "      <td>2</td>\n",
              "      <td>1</td>\n",
              "      <td>1</td>\n",
              "      <td>4</td>\n",
              "      <td>2</td>\n",
              "      <td>-1</td>\n",
              "      <td>3</td>\n",
              "      <td>1</td>\n",
              "      <td>1</td>\n",
              "      <td>-1</td>\n",
              "      <td>1</td>\n",
              "      <td>1</td>\n",
              "      <td>2</td>\n",
              "      <td>2</td>\n",
              "      <td>1</td>\n",
              "      <td>2</td>\n",
              "      <td>2</td>\n",
              "      <td>2</td>\n",
              "      <td>2</td>\n",
              "      <td>2</td>\n",
              "      <td>2</td>\n",
              "      <td>2</td>\n",
              "      <td>371.0</td>\n",
              "      <td>1570.0</td>\n",
              "      <td>37.1</td>\n",
              "      <td>157.0</td>\n",
              "      <td>2</td>\n",
              "      <td>1</td>\n",
              "      <td>1223</td>\n",
              "      <td>1</td>\n",
              "      <td>299.735235</td>\n",
              "      <td>1</td>\n",
              "      <td>2</td>\n",
              "      <td>4</td>\n",
              "      <td>1</td>\n",
              "      <td>1</td>\n",
              "      <td>1</td>\n",
              "      <td>296</td>\n",
              "    </tr>\n",
              "    <tr>\n",
              "      <th>1</th>\n",
              "      <td>2015</td>\n",
              "      <td>76</td>\n",
              "      <td>1</td>\n",
              "      <td>1</td>\n",
              "      <td>2</td>\n",
              "      <td>1</td>\n",
              "      <td>14</td>\n",
              "      <td>4</td>\n",
              "      <td>7</td>\n",
              "      <td>1</td>\n",
              "      <td>1</td>\n",
              "      <td>7</td>\n",
              "      <td>3</td>\n",
              "      <td>2</td>\n",
              "      <td>-1</td>\n",
              "      <td>1</td>\n",
              "      <td>1</td>\n",
              "      <td>1</td>\n",
              "      <td>1</td>\n",
              "      <td>1</td>\n",
              "      <td>2</td>\n",
              "      <td>2</td>\n",
              "      <td>2</td>\n",
              "      <td>4</td>\n",
              "      <td>1</td>\n",
              "      <td>2</td>\n",
              "      <td>2</td>\n",
              "      <td>5</td>\n",
              "      <td>3</td>\n",
              "      <td>8</td>\n",
              "      <td>2</td>\n",
              "      <td>1</td>\n",
              "      <td>8</td>\n",
              "      <td>8</td>\n",
              "      <td>6</td>\n",
              "      <td>1</td>\n",
              "      <td>1</td>\n",
              "      <td>5</td>\n",
              "      <td>-1</td>\n",
              "      <td>2</td>\n",
              "      <td>...</td>\n",
              "      <td>2</td>\n",
              "      <td>3</td>\n",
              "      <td>2</td>\n",
              "      <td>4</td>\n",
              "      <td>4</td>\n",
              "      <td>4</td>\n",
              "      <td>1</td>\n",
              "      <td>2</td>\n",
              "      <td>3</td>\n",
              "      <td>3</td>\n",
              "      <td>1</td>\n",
              "      <td>-1</td>\n",
              "      <td>1</td>\n",
              "      <td>1</td>\n",
              "      <td>2</td>\n",
              "      <td>2</td>\n",
              "      <td>2</td>\n",
              "      <td>2</td>\n",
              "      <td>2</td>\n",
              "      <td>1</td>\n",
              "      <td>2</td>\n",
              "      <td>2</td>\n",
              "      <td>2</td>\n",
              "      <td>2</td>\n",
              "      <td>502.0</td>\n",
              "      <td>1520.0</td>\n",
              "      <td>50.2</td>\n",
              "      <td>152.0</td>\n",
              "      <td>2</td>\n",
              "      <td>2</td>\n",
              "      <td>1223</td>\n",
              "      <td>1</td>\n",
              "      <td>355.170081</td>\n",
              "      <td>1</td>\n",
              "      <td>2</td>\n",
              "      <td>4</td>\n",
              "      <td>1</td>\n",
              "      <td>2</td>\n",
              "      <td>1</td>\n",
              "      <td>296</td>\n",
              "    </tr>\n",
              "    <tr>\n",
              "      <th>2</th>\n",
              "      <td>2015</td>\n",
              "      <td>76</td>\n",
              "      <td>1</td>\n",
              "      <td>1</td>\n",
              "      <td>1</td>\n",
              "      <td>4</td>\n",
              "      <td>13</td>\n",
              "      <td>6</td>\n",
              "      <td>7</td>\n",
              "      <td>1</td>\n",
              "      <td>1</td>\n",
              "      <td>5</td>\n",
              "      <td>5</td>\n",
              "      <td>2</td>\n",
              "      <td>-1</td>\n",
              "      <td>2</td>\n",
              "      <td>1</td>\n",
              "      <td>1</td>\n",
              "      <td>1</td>\n",
              "      <td>1</td>\n",
              "      <td>2</td>\n",
              "      <td>3</td>\n",
              "      <td>1</td>\n",
              "      <td>4</td>\n",
              "      <td>1</td>\n",
              "      <td>2</td>\n",
              "      <td>2</td>\n",
              "      <td>5</td>\n",
              "      <td>3</td>\n",
              "      <td>2</td>\n",
              "      <td>3</td>\n",
              "      <td>1</td>\n",
              "      <td>8</td>\n",
              "      <td>2</td>\n",
              "      <td>8</td>\n",
              "      <td>1</td>\n",
              "      <td>1</td>\n",
              "      <td>5</td>\n",
              "      <td>5</td>\n",
              "      <td>1</td>\n",
              "      <td>...</td>\n",
              "      <td>2</td>\n",
              "      <td>1</td>\n",
              "      <td>2</td>\n",
              "      <td>1</td>\n",
              "      <td>2</td>\n",
              "      <td>3</td>\n",
              "      <td>1</td>\n",
              "      <td>2</td>\n",
              "      <td>1</td>\n",
              "      <td>2</td>\n",
              "      <td>5</td>\n",
              "      <td>99</td>\n",
              "      <td>1</td>\n",
              "      <td>-1</td>\n",
              "      <td>2</td>\n",
              "      <td>2</td>\n",
              "      <td>1</td>\n",
              "      <td>1</td>\n",
              "      <td>1</td>\n",
              "      <td>1</td>\n",
              "      <td>1</td>\n",
              "      <td>1</td>\n",
              "      <td>1</td>\n",
              "      <td>1</td>\n",
              "      <td>482.0</td>\n",
              "      <td>1614.0</td>\n",
              "      <td>48.2</td>\n",
              "      <td>161.4</td>\n",
              "      <td>2</td>\n",
              "      <td>2</td>\n",
              "      <td>1223</td>\n",
              "      <td>1</td>\n",
              "      <td>299.735235</td>\n",
              "      <td>1</td>\n",
              "      <td>2</td>\n",
              "      <td>4</td>\n",
              "      <td>1</td>\n",
              "      <td>3</td>\n",
              "      <td>1</td>\n",
              "      <td>296</td>\n",
              "    </tr>\n",
              "    <tr>\n",
              "      <th>3</th>\n",
              "      <td>2015</td>\n",
              "      <td>76</td>\n",
              "      <td>1</td>\n",
              "      <td>1</td>\n",
              "      <td>1</td>\n",
              "      <td>1</td>\n",
              "      <td>14</td>\n",
              "      <td>6</td>\n",
              "      <td>7</td>\n",
              "      <td>1</td>\n",
              "      <td>1</td>\n",
              "      <td>7</td>\n",
              "      <td>4</td>\n",
              "      <td>2</td>\n",
              "      <td>-1</td>\n",
              "      <td>1</td>\n",
              "      <td>1</td>\n",
              "      <td>1</td>\n",
              "      <td>1</td>\n",
              "      <td>1</td>\n",
              "      <td>2</td>\n",
              "      <td>4</td>\n",
              "      <td>2</td>\n",
              "      <td>4</td>\n",
              "      <td>1</td>\n",
              "      <td>2</td>\n",
              "      <td>2</td>\n",
              "      <td>6</td>\n",
              "      <td>3</td>\n",
              "      <td>2</td>\n",
              "      <td>4</td>\n",
              "      <td>1</td>\n",
              "      <td>3</td>\n",
              "      <td>2</td>\n",
              "      <td>7</td>\n",
              "      <td>1</td>\n",
              "      <td>5</td>\n",
              "      <td>1</td>\n",
              "      <td>-1</td>\n",
              "      <td>2</td>\n",
              "      <td>...</td>\n",
              "      <td>2</td>\n",
              "      <td>1</td>\n",
              "      <td>2</td>\n",
              "      <td>2</td>\n",
              "      <td>2</td>\n",
              "      <td>4</td>\n",
              "      <td>1</td>\n",
              "      <td>10</td>\n",
              "      <td>3</td>\n",
              "      <td>1</td>\n",
              "      <td>2</td>\n",
              "      <td>-1</td>\n",
              "      <td>1</td>\n",
              "      <td>-1</td>\n",
              "      <td>2</td>\n",
              "      <td>2</td>\n",
              "      <td>1</td>\n",
              "      <td>2</td>\n",
              "      <td>2</td>\n",
              "      <td>2</td>\n",
              "      <td>1</td>\n",
              "      <td>2</td>\n",
              "      <td>2</td>\n",
              "      <td>2</td>\n",
              "      <td>694.0</td>\n",
              "      <td>1725.0</td>\n",
              "      <td>69.4</td>\n",
              "      <td>172.5</td>\n",
              "      <td>2</td>\n",
              "      <td>3</td>\n",
              "      <td>1223</td>\n",
              "      <td>1</td>\n",
              "      <td>355.170081</td>\n",
              "      <td>1</td>\n",
              "      <td>2</td>\n",
              "      <td>4</td>\n",
              "      <td>1</td>\n",
              "      <td>4</td>\n",
              "      <td>1</td>\n",
              "      <td>296</td>\n",
              "    </tr>\n",
              "    <tr>\n",
              "      <th>4</th>\n",
              "      <td>2015</td>\n",
              "      <td>76</td>\n",
              "      <td>1</td>\n",
              "      <td>1</td>\n",
              "      <td>1</td>\n",
              "      <td>1</td>\n",
              "      <td>13</td>\n",
              "      <td>9</td>\n",
              "      <td>7</td>\n",
              "      <td>1</td>\n",
              "      <td>2</td>\n",
              "      <td>5</td>\n",
              "      <td>4</td>\n",
              "      <td>2</td>\n",
              "      <td>-1</td>\n",
              "      <td>2</td>\n",
              "      <td>1</td>\n",
              "      <td>1</td>\n",
              "      <td>1</td>\n",
              "      <td>1</td>\n",
              "      <td>2</td>\n",
              "      <td>5</td>\n",
              "      <td>1</td>\n",
              "      <td>4</td>\n",
              "      <td>1</td>\n",
              "      <td>2</td>\n",
              "      <td>2</td>\n",
              "      <td>6</td>\n",
              "      <td>5</td>\n",
              "      <td>6</td>\n",
              "      <td>3</td>\n",
              "      <td>5</td>\n",
              "      <td>2</td>\n",
              "      <td>6</td>\n",
              "      <td>2</td>\n",
              "      <td>1</td>\n",
              "      <td>5</td>\n",
              "      <td>1</td>\n",
              "      <td>5</td>\n",
              "      <td>1</td>\n",
              "      <td>...</td>\n",
              "      <td>2</td>\n",
              "      <td>1</td>\n",
              "      <td>4</td>\n",
              "      <td>2</td>\n",
              "      <td>2</td>\n",
              "      <td>4</td>\n",
              "      <td>1</td>\n",
              "      <td>3</td>\n",
              "      <td>2</td>\n",
              "      <td>2</td>\n",
              "      <td>2</td>\n",
              "      <td>13</td>\n",
              "      <td>1</td>\n",
              "      <td>-1</td>\n",
              "      <td>1</td>\n",
              "      <td>2</td>\n",
              "      <td>1</td>\n",
              "      <td>1</td>\n",
              "      <td>1</td>\n",
              "      <td>1</td>\n",
              "      <td>1</td>\n",
              "      <td>1</td>\n",
              "      <td>1</td>\n",
              "      <td>1</td>\n",
              "      <td>789.0</td>\n",
              "      <td>1675.0</td>\n",
              "      <td>78.9</td>\n",
              "      <td>167.5</td>\n",
              "      <td>2</td>\n",
              "      <td>4</td>\n",
              "      <td>1223</td>\n",
              "      <td>1</td>\n",
              "      <td>299.735235</td>\n",
              "      <td>1</td>\n",
              "      <td>2</td>\n",
              "      <td>4</td>\n",
              "      <td>1</td>\n",
              "      <td>5</td>\n",
              "      <td>1</td>\n",
              "      <td>296</td>\n",
              "    </tr>\n",
              "  </tbody>\n",
              "</table>\n",
              "<p>5 rows × 181 columns</p>\n",
              "</div>"
            ],
            "text/plain": [
              "   ANOPESQ  PAIS  REGEOGR  VB00004  VB01001  ...  V0008  V0041  aluno  escola  turma\n",
              "0     2015    76        1        1        2  ...      4      1      1       1    296\n",
              "1     2015    76        1        1        2  ...      4      1      2       1    296\n",
              "2     2015    76        1        1        1  ...      4      1      3       1    296\n",
              "3     2015    76        1        1        1  ...      4      1      4       1    296\n",
              "4     2015    76        1        1        1  ...      4      1      5       1    296\n",
              "\n",
              "[5 rows x 181 columns]"
            ]
          },
          "metadata": {
            "tags": []
          },
          "execution_count": 17
        }
      ]
    },
    {
      "cell_type": "markdown",
      "metadata": {
        "id": "6DNlg4bnTHZF"
      },
      "source": [
        "# Aula 02"
      ]
    },
    {
      "cell_type": "code",
      "metadata": {
        "colab": {
          "base_uri": "https://localhost:8080/"
        },
        "id": "ZYR-ZMxSRCM_",
        "outputId": "56daac53-9e79-4f29-dfa5-049ff7aab254"
      },
      "source": [
        "dados.shape"
      ],
      "execution_count": 18,
      "outputs": [
        {
          "output_type": "execute_result",
          "data": {
            "text/plain": [
              "(16556, 181)"
            ]
          },
          "metadata": {
            "tags": []
          },
          "execution_count": 18
        }
      ]
    },
    {
      "cell_type": "code",
      "metadata": {
        "colab": {
          "base_uri": "https://localhost:8080/"
        },
        "id": "rC9_EFZtX8Yc",
        "outputId": "4733bb13-3377-4a2f-95eb-f4c6886dbe5c"
      },
      "source": [
        "dados.columns"
      ],
      "execution_count": 19,
      "outputs": [
        {
          "output_type": "execute_result",
          "data": {
            "text/plain": [
              "Index(['ANOPESQ', 'PAIS', 'REGEOGR', 'VB00004', 'VB01001', 'VB01002',\n",
              "       'VB01003', 'VB01004', 'VB01005', 'VB01006',\n",
              "       ...\n",
              "       'ESTRATO_EXP', 'ESTRATOGEOREG', 'PESO', 'V0006', 'V0007', 'V0008',\n",
              "       'V0041', 'aluno', 'escola', 'turma'],\n",
              "      dtype='object', length=181)"
            ]
          },
          "metadata": {
            "tags": []
          },
          "execution_count": 19
        }
      ]
    },
    {
      "cell_type": "code",
      "metadata": {
        "colab": {
          "base_uri": "https://localhost:8080/"
        },
        "id": "e2LPiHDgZX3V",
        "outputId": "16dbfe66-3d2d-438c-c5ae-b4032f664f55"
      },
      "source": [
        "dados.info()"
      ],
      "execution_count": 20,
      "outputs": [
        {
          "output_type": "stream",
          "text": [
            "<class 'pandas.core.frame.DataFrame'>\n",
            "RangeIndex: 16556 entries, 0 to 16555\n",
            "Columns: 181 entries, ANOPESQ to turma\n",
            "dtypes: float64(10), int64(171)\n",
            "memory usage: 22.9 MB\n"
          ],
          "name": "stdout"
        }
      ]
    },
    {
      "cell_type": "code",
      "metadata": {
        "colab": {
          "base_uri": "https://localhost:8080/",
          "height": 419
        },
        "id": "6w25Ry-5hVaM",
        "outputId": "19c46bd0-b021-4207-c88d-0a4a5a1ac837"
      },
      "source": [
        "dados.select_dtypes(include='float64')"
      ],
      "execution_count": 21,
      "outputs": [
        {
          "output_type": "execute_result",
          "data": {
            "text/html": [
              "<div>\n",
              "<style scoped>\n",
              "    .dataframe tbody tr th:only-of-type {\n",
              "        vertical-align: middle;\n",
              "    }\n",
              "\n",
              "    .dataframe tbody tr th {\n",
              "        vertical-align: top;\n",
              "    }\n",
              "\n",
              "    .dataframe thead th {\n",
              "        text-align: right;\n",
              "    }\n",
              "</style>\n",
              "<table border=\"1\" class=\"dataframe\">\n",
              "  <thead>\n",
              "    <tr style=\"text-align: right;\">\n",
              "      <th></th>\n",
              "      <th>TEMPODESLOC</th>\n",
              "      <th>TEMPOTOTAL</th>\n",
              "      <th>TEMPOEDFIS</th>\n",
              "      <th>TEMPOEXTRA</th>\n",
              "      <th>TEMPOEST</th>\n",
              "      <th>VB17001</th>\n",
              "      <th>VB17002</th>\n",
              "      <th>VB17003</th>\n",
              "      <th>VB17004</th>\n",
              "      <th>PESO</th>\n",
              "    </tr>\n",
              "  </thead>\n",
              "  <tbody>\n",
              "    <tr>\n",
              "      <th>0</th>\n",
              "      <td>0.0</td>\n",
              "      <td>15.0</td>\n",
              "      <td>0.0</td>\n",
              "      <td>15.0</td>\n",
              "      <td>60.0</td>\n",
              "      <td>371.0</td>\n",
              "      <td>1570.0</td>\n",
              "      <td>37.1</td>\n",
              "      <td>157.0</td>\n",
              "      <td>299.735235</td>\n",
              "    </tr>\n",
              "    <tr>\n",
              "      <th>1</th>\n",
              "      <td>120.0</td>\n",
              "      <td>510.0</td>\n",
              "      <td>260.0</td>\n",
              "      <td>130.0</td>\n",
              "      <td>300.0</td>\n",
              "      <td>502.0</td>\n",
              "      <td>1520.0</td>\n",
              "      <td>50.2</td>\n",
              "      <td>152.0</td>\n",
              "      <td>355.170081</td>\n",
              "    </tr>\n",
              "    <tr>\n",
              "      <th>2</th>\n",
              "      <td>0.0</td>\n",
              "      <td>585.0</td>\n",
              "      <td>130.0</td>\n",
              "      <td>455.0</td>\n",
              "      <td>420.0</td>\n",
              "      <td>482.0</td>\n",
              "      <td>1614.0</td>\n",
              "      <td>48.2</td>\n",
              "      <td>161.4</td>\n",
              "      <td>299.735235</td>\n",
              "    </tr>\n",
              "    <tr>\n",
              "      <th>3</th>\n",
              "      <td>0.0</td>\n",
              "      <td>0.0</td>\n",
              "      <td>0.0</td>\n",
              "      <td>0.0</td>\n",
              "      <td>0.0</td>\n",
              "      <td>694.0</td>\n",
              "      <td>1725.0</td>\n",
              "      <td>69.4</td>\n",
              "      <td>172.5</td>\n",
              "      <td>355.170081</td>\n",
              "    </tr>\n",
              "    <tr>\n",
              "      <th>4</th>\n",
              "      <td>30.0</td>\n",
              "      <td>165.0</td>\n",
              "      <td>90.0</td>\n",
              "      <td>45.0</td>\n",
              "      <td>60.0</td>\n",
              "      <td>789.0</td>\n",
              "      <td>1675.0</td>\n",
              "      <td>78.9</td>\n",
              "      <td>167.5</td>\n",
              "      <td>299.735235</td>\n",
              "    </tr>\n",
              "    <tr>\n",
              "      <th>...</th>\n",
              "      <td>...</td>\n",
              "      <td>...</td>\n",
              "      <td>...</td>\n",
              "      <td>...</td>\n",
              "      <td>...</td>\n",
              "      <td>...</td>\n",
              "      <td>...</td>\n",
              "      <td>...</td>\n",
              "      <td>...</td>\n",
              "      <td>...</td>\n",
              "    </tr>\n",
              "    <tr>\n",
              "      <th>16551</th>\n",
              "      <td>30.0</td>\n",
              "      <td>400.0</td>\n",
              "      <td>110.0</td>\n",
              "      <td>260.0</td>\n",
              "      <td>240.0</td>\n",
              "      <td>567.0</td>\n",
              "      <td>1679.0</td>\n",
              "      <td>56.7</td>\n",
              "      <td>167.9</td>\n",
              "      <td>447.815539</td>\n",
              "    </tr>\n",
              "    <tr>\n",
              "      <th>16552</th>\n",
              "      <td>20.0</td>\n",
              "      <td>800.0</td>\n",
              "      <td>325.0</td>\n",
              "      <td>455.0</td>\n",
              "      <td>240.0</td>\n",
              "      <td>619.0</td>\n",
              "      <td>1858.0</td>\n",
              "      <td>61.9</td>\n",
              "      <td>185.8</td>\n",
              "      <td>592.507440</td>\n",
              "    </tr>\n",
              "    <tr>\n",
              "      <th>16553</th>\n",
              "      <td>0.0</td>\n",
              "      <td>0.0</td>\n",
              "      <td>0.0</td>\n",
              "      <td>0.0</td>\n",
              "      <td>60.0</td>\n",
              "      <td>609.0</td>\n",
              "      <td>1594.0</td>\n",
              "      <td>60.9</td>\n",
              "      <td>159.4</td>\n",
              "      <td>401.131512</td>\n",
              "    </tr>\n",
              "    <tr>\n",
              "      <th>16554</th>\n",
              "      <td>75.0</td>\n",
              "      <td>215.0</td>\n",
              "      <td>35.0</td>\n",
              "      <td>105.0</td>\n",
              "      <td>120.0</td>\n",
              "      <td>473.0</td>\n",
              "      <td>1578.0</td>\n",
              "      <td>47.3</td>\n",
              "      <td>157.8</td>\n",
              "      <td>442.718091</td>\n",
              "    </tr>\n",
              "    <tr>\n",
              "      <th>16555</th>\n",
              "      <td>50.0</td>\n",
              "      <td>485.0</td>\n",
              "      <td>110.0</td>\n",
              "      <td>325.0</td>\n",
              "      <td>360.0</td>\n",
              "      <td>626.0</td>\n",
              "      <td>1639.0</td>\n",
              "      <td>62.6</td>\n",
              "      <td>163.9</td>\n",
              "      <td>592.507440</td>\n",
              "    </tr>\n",
              "  </tbody>\n",
              "</table>\n",
              "<p>16556 rows × 10 columns</p>\n",
              "</div>"
            ],
            "text/plain": [
              "       TEMPODESLOC  TEMPOTOTAL  TEMPOEDFIS  ...  VB17003  VB17004        PESO\n",
              "0              0.0        15.0         0.0  ...     37.1    157.0  299.735235\n",
              "1            120.0       510.0       260.0  ...     50.2    152.0  355.170081\n",
              "2              0.0       585.0       130.0  ...     48.2    161.4  299.735235\n",
              "3              0.0         0.0         0.0  ...     69.4    172.5  355.170081\n",
              "4             30.0       165.0        90.0  ...     78.9    167.5  299.735235\n",
              "...            ...         ...         ...  ...      ...      ...         ...\n",
              "16551         30.0       400.0       110.0  ...     56.7    167.9  447.815539\n",
              "16552         20.0       800.0       325.0  ...     61.9    185.8  592.507440\n",
              "16553          0.0         0.0         0.0  ...     60.9    159.4  401.131512\n",
              "16554         75.0       215.0        35.0  ...     47.3    157.8  442.718091\n",
              "16555         50.0       485.0       110.0  ...     62.6    163.9  592.507440\n",
              "\n",
              "[16556 rows x 10 columns]"
            ]
          },
          "metadata": {
            "tags": []
          },
          "execution_count": 21
        }
      ]
    },
    {
      "cell_type": "markdown",
      "metadata": {
        "id": "6pXKWzjNg2cv"
      },
      "source": [
        "Explorando os dados: <br><br>\r\n",
        "Vamos observar primeiro a pergunta 'VB01001': <br><br>\r\n",
        "Qual é o seu sexo? <br>\r\n",
        "\r\n",
        "\r\n",
        "1.   Masculino\r\n",
        "2.   Feminino\r\n",
        "\r\n"
      ]
    },
    {
      "cell_type": "code",
      "metadata": {
        "colab": {
          "base_uri": "https://localhost:8080/"
        },
        "id": "waBp0sJJ6A7P",
        "outputId": "53acd8ee-1374-4c83-89d2-65599d1cc29e"
      },
      "source": [
        "dados['VB01001'].value_counts()"
      ],
      "execution_count": 22,
      "outputs": [
        {
          "output_type": "execute_result",
          "data": {
            "text/plain": [
              "1    8287\n",
              "2    8269\n",
              "Name: VB01001, dtype: int64"
            ]
          },
          "metadata": {
            "tags": []
          },
          "execution_count": 22
        }
      ]
    },
    {
      "cell_type": "code",
      "metadata": {
        "colab": {
          "base_uri": "https://localhost:8080/"
        },
        "id": "r0u2xpvHdh-X",
        "outputId": "22c557bc-f4d1-4be3-ed5c-c43d449b953e"
      },
      "source": [
        "dados['VB01001'].value_counts(normalize=True) * 100\r\n"
      ],
      "execution_count": 23,
      "outputs": [
        {
          "output_type": "execute_result",
          "data": {
            "text/plain": [
              "1    50.054361\n",
              "2    49.945639\n",
              "Name: VB01001, dtype: float64"
            ]
          },
          "metadata": {
            "tags": []
          },
          "execution_count": 23
        }
      ]
    },
    {
      "cell_type": "markdown",
      "metadata": {
        "id": "glAC726shd7i"
      },
      "source": [
        "A próxima questão que iremos abordar é a 'VB11007': <br><br>\r\n",
        "Como você se sente em relação ao seu corpo?<br>\r\n",
        "1. Muito satisfeito(a)\r\n",
        "2. Satisfeito(a)\r\n",
        "3. Indiferente\r\n",
        "4. Insatisfeito(a)\r\n",
        "5. Muito insatisfeito(a)\r\n",
        "99. Não informado\r\n"
      ]
    },
    {
      "cell_type": "code",
      "metadata": {
        "colab": {
          "base_uri": "https://localhost:8080/"
        },
        "id": "SvmViWcri7O6",
        "outputId": "c0ee56b7-8689-4d04-91fe-d35d0ce7e82b"
      },
      "source": [
        "frequencia = dados['VB11007'].value_counts()\r\n",
        "frequencia\r\n"
      ],
      "execution_count": 24,
      "outputs": [
        {
          "output_type": "execute_result",
          "data": {
            "text/plain": [
              "2     6920\n",
              "1     4608\n",
              "4     2326\n",
              "3     1807\n",
              "5      714\n",
              "99     181\n",
              "Name: VB11007, dtype: int64"
            ]
          },
          "metadata": {
            "tags": []
          },
          "execution_count": 24
        }
      ]
    },
    {
      "cell_type": "code",
      "metadata": {
        "colab": {
          "base_uri": "https://localhost:8080/"
        },
        "id": "ze7X8Ybhf-hJ",
        "outputId": "7a111d43-80f1-4ad9-d9e4-c87243dc6f31"
      },
      "source": [
        "percentual = dados['VB11007'].value_counts(normalize=True) * 100\r\n",
        "percentual"
      ],
      "execution_count": 25,
      "outputs": [
        {
          "output_type": "execute_result",
          "data": {
            "text/plain": [
              "2     41.797536\n",
              "1     27.832810\n",
              "4     14.049287\n",
              "3     10.914472\n",
              "5      4.312636\n",
              "99     1.093259\n",
              "Name: VB11007, dtype: float64"
            ]
          },
          "metadata": {
            "tags": []
          },
          "execution_count": 25
        }
      ]
    },
    {
      "cell_type": "code",
      "metadata": {
        "colab": {
          "base_uri": "https://localhost:8080/",
          "height": 235
        },
        "id": "_J3sDUUEiZl3",
        "outputId": "e1c535d7-8748-4361-b3c5-84766199b64e"
      },
      "source": [
        "respostas = {\r\n",
        "  1: 'Muito satisfeito(a)',\r\n",
        "  2: 'Satisfeito(a)',\r\n",
        "  3: 'Indiferente',\r\n",
        "  4: 'Insatisfeito(a)',\r\n",
        "  5: 'Muito insatisfeito(a)',\r\n",
        "  99: 'Não informado',\r\n",
        "}\r\n",
        "\r\n",
        "dist_freq = pd.DataFrame({'Frequência': frequencia, 'Percentual': percentual})\r\n",
        "dist_freq.rename(index=respostas, inplace=True)\r\n",
        "dist_freq.rename_axis('Sentimento com relação ao corpo', axis=1, inplace=True)\r\n",
        "dist_freq\r\n"
      ],
      "execution_count": 26,
      "outputs": [
        {
          "output_type": "execute_result",
          "data": {
            "text/html": [
              "<div>\n",
              "<style scoped>\n",
              "    .dataframe tbody tr th:only-of-type {\n",
              "        vertical-align: middle;\n",
              "    }\n",
              "\n",
              "    .dataframe tbody tr th {\n",
              "        vertical-align: top;\n",
              "    }\n",
              "\n",
              "    .dataframe thead th {\n",
              "        text-align: right;\n",
              "    }\n",
              "</style>\n",
              "<table border=\"1\" class=\"dataframe\">\n",
              "  <thead>\n",
              "    <tr style=\"text-align: right;\">\n",
              "      <th>Sentimento com relação ao corpo</th>\n",
              "      <th>Frequência</th>\n",
              "      <th>Percentual</th>\n",
              "    </tr>\n",
              "  </thead>\n",
              "  <tbody>\n",
              "    <tr>\n",
              "      <th>Satisfeito(a)</th>\n",
              "      <td>6920</td>\n",
              "      <td>41.797536</td>\n",
              "    </tr>\n",
              "    <tr>\n",
              "      <th>Muito satisfeito(a)</th>\n",
              "      <td>4608</td>\n",
              "      <td>27.832810</td>\n",
              "    </tr>\n",
              "    <tr>\n",
              "      <th>Insatisfeito(a)</th>\n",
              "      <td>2326</td>\n",
              "      <td>14.049287</td>\n",
              "    </tr>\n",
              "    <tr>\n",
              "      <th>Indiferente</th>\n",
              "      <td>1807</td>\n",
              "      <td>10.914472</td>\n",
              "    </tr>\n",
              "    <tr>\n",
              "      <th>Muito insatisfeito(a)</th>\n",
              "      <td>714</td>\n",
              "      <td>4.312636</td>\n",
              "    </tr>\n",
              "    <tr>\n",
              "      <th>Não informado</th>\n",
              "      <td>181</td>\n",
              "      <td>1.093259</td>\n",
              "    </tr>\n",
              "  </tbody>\n",
              "</table>\n",
              "</div>"
            ],
            "text/plain": [
              "Sentimento com relação ao corpo  Frequência  Percentual\n",
              "Satisfeito(a)                          6920   41.797536\n",
              "Muito satisfeito(a)                    4608   27.832810\n",
              "Insatisfeito(a)                        2326   14.049287\n",
              "Indiferente                            1807   10.914472\n",
              "Muito insatisfeito(a)                   714    4.312636\n",
              "Não informado                           181    1.093259"
            ]
          },
          "metadata": {
            "tags": []
          },
          "execution_count": 26
        }
      ]
    },
    {
      "cell_type": "markdown",
      "metadata": {
        "id": "dQZO2flVEQgW"
      },
      "source": [
        "### Desafio 02: Criar uma função para gerar as tabelas de frequência e fazer a análise de outras informações. "
      ]
    },
    {
      "cell_type": "code",
      "metadata": {
        "id": "aATbi44VjoFa"
      },
      "source": [
        "def criar_freq(numero_pergunta: str, pergunta: str, respostas: object):\r\n",
        "  frequencia = dados[numero_pergunta].value_counts()\r\n",
        "  percentual = dados[numero_pergunta].value_counts(normalize=True)*100\r\n",
        "  dist_frequencia = pd.DataFrame({'Frequência': frequencia, 'Percentual': percentual})\r\n",
        "  dist_frequencia.rename(index=respostas, inplace=True)\r\n",
        "  dist_frequencia.rename_axis(pergunta, axis=1, inplace=True)\r\n",
        "  return dist_frequencia"
      ],
      "execution_count": 27,
      "outputs": []
    },
    {
      "cell_type": "code",
      "metadata": {
        "colab": {
          "base_uri": "https://localhost:8080/",
          "height": 235
        },
        "id": "b2hWVrXK1jlh",
        "outputId": "676065aa-cb47-4a10-db9d-4baf89d6c0d6"
      },
      "source": [
        "criar_freq('VB10004', \r\n",
        "           'NOS ÚLTIMOS 30 DIAS, com que frequência você lavou as mãos antes de comer?',\r\n",
        "           {\r\n",
        "              1: 'Nunca',\r\n",
        "              2: 'Raramente',\r\n",
        "              3: 'Às vezes',\r\n",
        "              4: 'Na maioria das vezes',\r\n",
        "              5: 'Sempre',\r\n",
        "              99: 'Não informado'\r\n",
        "           })"
      ],
      "execution_count": 28,
      "outputs": [
        {
          "output_type": "execute_result",
          "data": {
            "text/html": [
              "<div>\n",
              "<style scoped>\n",
              "    .dataframe tbody tr th:only-of-type {\n",
              "        vertical-align: middle;\n",
              "    }\n",
              "\n",
              "    .dataframe tbody tr th {\n",
              "        vertical-align: top;\n",
              "    }\n",
              "\n",
              "    .dataframe thead th {\n",
              "        text-align: right;\n",
              "    }\n",
              "</style>\n",
              "<table border=\"1\" class=\"dataframe\">\n",
              "  <thead>\n",
              "    <tr style=\"text-align: right;\">\n",
              "      <th>NOS ÚLTIMOS 30 DIAS, com que frequência você lavou as mãos antes de comer?</th>\n",
              "      <th>Frequência</th>\n",
              "      <th>Percentual</th>\n",
              "    </tr>\n",
              "  </thead>\n",
              "  <tbody>\n",
              "    <tr>\n",
              "      <th>Sempre</th>\n",
              "      <td>7804</td>\n",
              "      <td>47.136990</td>\n",
              "    </tr>\n",
              "    <tr>\n",
              "      <th>Na maioria das vezes</th>\n",
              "      <td>4074</td>\n",
              "      <td>24.607393</td>\n",
              "    </tr>\n",
              "    <tr>\n",
              "      <th>Às vezes</th>\n",
              "      <td>2634</td>\n",
              "      <td>15.909640</td>\n",
              "    </tr>\n",
              "    <tr>\n",
              "      <th>Raramente</th>\n",
              "      <td>1419</td>\n",
              "      <td>8.570911</td>\n",
              "    </tr>\n",
              "    <tr>\n",
              "      <th>Nunca</th>\n",
              "      <td>553</td>\n",
              "      <td>3.340179</td>\n",
              "    </tr>\n",
              "    <tr>\n",
              "      <th>Não informado</th>\n",
              "      <td>72</td>\n",
              "      <td>0.434888</td>\n",
              "    </tr>\n",
              "  </tbody>\n",
              "</table>\n",
              "</div>"
            ],
            "text/plain": [
              "NOS ÚLTIMOS 30 DIAS, com que frequência você lavou as mãos antes de comer?  Frequência  Percentual\n",
              "Sempre                                                                            7804   47.136990\n",
              "Na maioria das vezes                                                              4074   24.607393\n",
              "Às vezes                                                                          2634   15.909640\n",
              "Raramente                                                                         1419    8.570911\n",
              "Nunca                                                                              553    3.340179\n",
              "Não informado                                                                       72    0.434888"
            ]
          },
          "metadata": {
            "tags": []
          },
          "execution_count": 28
        }
      ]
    },
    {
      "cell_type": "code",
      "metadata": {
        "colab": {
          "base_uri": "https://localhost:8080/",
          "height": 252
        },
        "id": "-QEp6_4yHoux",
        "outputId": "af191b11-0be5-4e37-d7dd-f4dd118e075a"
      },
      "source": [
        "criar_freq('VB10005', \r\n",
        "           'NOS ÚLTIMOS 30 DIAS, com que frequência você lavou as mãos após usar o banheiro ou o vaso sanitário?',\r\n",
        "           {\r\n",
        "              1: 'Nunca',\r\n",
        "              2: 'Raramente',\r\n",
        "              3: 'Às vezes',\r\n",
        "              4: 'Na maioria das vezes',\r\n",
        "              5: 'Sempre',\r\n",
        "              99: 'Não informado'\r\n",
        "           })"
      ],
      "execution_count": 29,
      "outputs": [
        {
          "output_type": "execute_result",
          "data": {
            "text/html": [
              "<div>\n",
              "<style scoped>\n",
              "    .dataframe tbody tr th:only-of-type {\n",
              "        vertical-align: middle;\n",
              "    }\n",
              "\n",
              "    .dataframe tbody tr th {\n",
              "        vertical-align: top;\n",
              "    }\n",
              "\n",
              "    .dataframe thead th {\n",
              "        text-align: right;\n",
              "    }\n",
              "</style>\n",
              "<table border=\"1\" class=\"dataframe\">\n",
              "  <thead>\n",
              "    <tr style=\"text-align: right;\">\n",
              "      <th>NOS ÚLTIMOS 30 DIAS, com que frequência você lavou as mãos após usar o banheiro ou o vaso sanitário?</th>\n",
              "      <th>Frequência</th>\n",
              "      <th>Percentual</th>\n",
              "    </tr>\n",
              "  </thead>\n",
              "  <tbody>\n",
              "    <tr>\n",
              "      <th>Sempre</th>\n",
              "      <td>11631</td>\n",
              "      <td>70.252476</td>\n",
              "    </tr>\n",
              "    <tr>\n",
              "      <th>Na maioria das vezes</th>\n",
              "      <td>2498</td>\n",
              "      <td>15.088186</td>\n",
              "    </tr>\n",
              "    <tr>\n",
              "      <th>Às vezes</th>\n",
              "      <td>1334</td>\n",
              "      <td>8.057502</td>\n",
              "    </tr>\n",
              "    <tr>\n",
              "      <th>Raramente</th>\n",
              "      <td>666</td>\n",
              "      <td>4.022711</td>\n",
              "    </tr>\n",
              "    <tr>\n",
              "      <th>Nunca</th>\n",
              "      <td>342</td>\n",
              "      <td>2.065716</td>\n",
              "    </tr>\n",
              "    <tr>\n",
              "      <th>Não informado</th>\n",
              "      <td>85</td>\n",
              "      <td>0.513409</td>\n",
              "    </tr>\n",
              "  </tbody>\n",
              "</table>\n",
              "</div>"
            ],
            "text/plain": [
              "NOS ÚLTIMOS 30 DIAS, com que frequência você lavou as mãos após usar o banheiro ou o vaso sanitário?  Frequência  Percentual\n",
              "Sempre                                                                                                     11631   70.252476\n",
              "Na maioria das vezes                                                                                        2498   15.088186\n",
              "Às vezes                                                                                                    1334    8.057502\n",
              "Raramente                                                                                                    666    4.022711\n",
              "Nunca                                                                                                        342    2.065716\n",
              "Não informado                                                                                                 85    0.513409"
            ]
          },
          "metadata": {
            "tags": []
          },
          "execution_count": 29
        }
      ]
    },
    {
      "cell_type": "code",
      "metadata": {
        "colab": {
          "base_uri": "https://localhost:8080/",
          "height": 235
        },
        "id": "Mn6VwTq_H9R1",
        "outputId": "c0efd042-d0f2-444e-afeb-f6085f7c8a46"
      },
      "source": [
        "criar_freq('VB10006', \r\n",
        "           'NOS ÚLTIMOS 30 DIAS, com que frequência você usou sabão ou sabonete quando lavou suas mãos?',\r\n",
        "           {\r\n",
        "              1: 'Nunca',\r\n",
        "              2: 'Raramente',\r\n",
        "              3: 'Às vezes',\r\n",
        "              4: 'Na maioria das vezes',\r\n",
        "              5: 'Sempre',\r\n",
        "              99: 'Não informado'\r\n",
        "           })"
      ],
      "execution_count": 30,
      "outputs": [
        {
          "output_type": "execute_result",
          "data": {
            "text/html": [
              "<div>\n",
              "<style scoped>\n",
              "    .dataframe tbody tr th:only-of-type {\n",
              "        vertical-align: middle;\n",
              "    }\n",
              "\n",
              "    .dataframe tbody tr th {\n",
              "        vertical-align: top;\n",
              "    }\n",
              "\n",
              "    .dataframe thead th {\n",
              "        text-align: right;\n",
              "    }\n",
              "</style>\n",
              "<table border=\"1\" class=\"dataframe\">\n",
              "  <thead>\n",
              "    <tr style=\"text-align: right;\">\n",
              "      <th>NOS ÚLTIMOS 30 DIAS, com que frequência você usou sabão ou sabonete quando lavou suas mãos?</th>\n",
              "      <th>Frequência</th>\n",
              "      <th>Percentual</th>\n",
              "    </tr>\n",
              "  </thead>\n",
              "  <tbody>\n",
              "    <tr>\n",
              "      <th>Sempre</th>\n",
              "      <td>9712</td>\n",
              "      <td>58.661512</td>\n",
              "    </tr>\n",
              "    <tr>\n",
              "      <th>Na maioria das vezes</th>\n",
              "      <td>3545</td>\n",
              "      <td>21.412177</td>\n",
              "    </tr>\n",
              "    <tr>\n",
              "      <th>Às vezes</th>\n",
              "      <td>2015</td>\n",
              "      <td>12.170814</td>\n",
              "    </tr>\n",
              "    <tr>\n",
              "      <th>Raramente</th>\n",
              "      <td>873</td>\n",
              "      <td>5.273013</td>\n",
              "    </tr>\n",
              "    <tr>\n",
              "      <th>Nunca</th>\n",
              "      <td>308</td>\n",
              "      <td>1.860353</td>\n",
              "    </tr>\n",
              "    <tr>\n",
              "      <th>Não informado</th>\n",
              "      <td>103</td>\n",
              "      <td>0.622131</td>\n",
              "    </tr>\n",
              "  </tbody>\n",
              "</table>\n",
              "</div>"
            ],
            "text/plain": [
              "NOS ÚLTIMOS 30 DIAS, com que frequência você usou sabão ou sabonete quando lavou suas mãos?  Frequência  Percentual\n",
              "Sempre                                                                                             9712   58.661512\n",
              "Na maioria das vezes                                                                               3545   21.412177\n",
              "Às vezes                                                                                           2015   12.170814\n",
              "Raramente                                                                                           873    5.273013\n",
              "Nunca                                                                                               308    1.860353\n",
              "Não informado                                                                                       103    0.622131"
            ]
          },
          "metadata": {
            "tags": []
          },
          "execution_count": 30
        }
      ]
    },
    {
      "cell_type": "code",
      "metadata": {
        "colab": {
          "base_uri": "https://localhost:8080/",
          "height": 328
        },
        "id": "cjYYHZvlIVsZ",
        "outputId": "9af32090-1511-406f-9c71-dd69b6d76fbb"
      },
      "source": [
        "criar_freq('VB09003', \r\n",
        "           'NOS ÚLTIMOS 30 DIAS, quantas vezes você foi agredido(a) fisicamente por um adulto da sua família?',\r\n",
        "           {\r\n",
        "              1: 'Nenhuma vez',\r\n",
        "              2: '1 vez',\r\n",
        "              3: '2 ou 3 vezes',\r\n",
        "              4: '4 ou 5 vezes',\r\n",
        "              5: '6 ou 7 vezes',\r\n",
        "              6: '8 ou 9 vezes',\r\n",
        "              7: '10 ou 11 vezes',\r\n",
        "              8: '12 vezes ou mais',\r\n",
        "              99: 'Não informado'\r\n",
        "           })"
      ],
      "execution_count": 31,
      "outputs": [
        {
          "output_type": "execute_result",
          "data": {
            "text/html": [
              "<div>\n",
              "<style scoped>\n",
              "    .dataframe tbody tr th:only-of-type {\n",
              "        vertical-align: middle;\n",
              "    }\n",
              "\n",
              "    .dataframe tbody tr th {\n",
              "        vertical-align: top;\n",
              "    }\n",
              "\n",
              "    .dataframe thead th {\n",
              "        text-align: right;\n",
              "    }\n",
              "</style>\n",
              "<table border=\"1\" class=\"dataframe\">\n",
              "  <thead>\n",
              "    <tr style=\"text-align: right;\">\n",
              "      <th>NOS ÚLTIMOS 30 DIAS, quantas vezes você foi agredido(a) fisicamente por um adulto da sua família?</th>\n",
              "      <th>Frequência</th>\n",
              "      <th>Percentual</th>\n",
              "    </tr>\n",
              "  </thead>\n",
              "  <tbody>\n",
              "    <tr>\n",
              "      <th>Nenhuma vez</th>\n",
              "      <td>14164</td>\n",
              "      <td>85.552066</td>\n",
              "    </tr>\n",
              "    <tr>\n",
              "      <th>1 vez</th>\n",
              "      <td>962</td>\n",
              "      <td>5.810582</td>\n",
              "    </tr>\n",
              "    <tr>\n",
              "      <th>2 ou 3 vezes</th>\n",
              "      <td>439</td>\n",
              "      <td>2.651607</td>\n",
              "    </tr>\n",
              "    <tr>\n",
              "      <th>12 vezes ou mais</th>\n",
              "      <td>254</td>\n",
              "      <td>1.534187</td>\n",
              "    </tr>\n",
              "    <tr>\n",
              "      <th>4 ou 5 vezes</th>\n",
              "      <td>218</td>\n",
              "      <td>1.316743</td>\n",
              "    </tr>\n",
              "    <tr>\n",
              "      <th>Não informado</th>\n",
              "      <td>161</td>\n",
              "      <td>0.972457</td>\n",
              "    </tr>\n",
              "    <tr>\n",
              "      <th>6 ou 7 vezes</th>\n",
              "      <td>158</td>\n",
              "      <td>0.954337</td>\n",
              "    </tr>\n",
              "    <tr>\n",
              "      <th>8 ou 9 vezes</th>\n",
              "      <td>119</td>\n",
              "      <td>0.718773</td>\n",
              "    </tr>\n",
              "    <tr>\n",
              "      <th>10 ou 11 vezes</th>\n",
              "      <td>81</td>\n",
              "      <td>0.489249</td>\n",
              "    </tr>\n",
              "  </tbody>\n",
              "</table>\n",
              "</div>"
            ],
            "text/plain": [
              "NOS ÚLTIMOS 30 DIAS, quantas vezes você foi agredido(a) fisicamente por um adulto da sua família?  Frequência  Percentual\n",
              "Nenhuma vez                                                                                             14164   85.552066\n",
              "1 vez                                                                                                     962    5.810582\n",
              "2 ou 3 vezes                                                                                              439    2.651607\n",
              "12 vezes ou mais                                                                                          254    1.534187\n",
              "4 ou 5 vezes                                                                                              218    1.316743\n",
              "Não informado                                                                                             161    0.972457\n",
              "6 ou 7 vezes                                                                                              158    0.954337\n",
              "8 ou 9 vezes                                                                                              119    0.718773\n",
              "10 ou 11 vezes                                                                                             81    0.489249"
            ]
          },
          "metadata": {
            "tags": []
          },
          "execution_count": 31
        }
      ]
    },
    {
      "cell_type": "code",
      "metadata": {
        "colab": {
          "base_uri": "https://localhost:8080/",
          "height": 235
        },
        "id": "hPGir6WuJkHb",
        "outputId": "19151712-56c9-4282-eb8e-2c8269ba5302"
      },
      "source": [
        "criar_freq('VB12001', \r\n",
        "           'NOS ÚLTIMOS 12 MESES com que frequência tem se sentido sozinho(a)? ',\r\n",
        "           {\r\n",
        "              1: 'Nunca',\r\n",
        "              2: 'Raramente',\r\n",
        "              3: 'Às vezes',\r\n",
        "              4: 'Na maioria das vezes',\r\n",
        "              5: 'Sempre',\r\n",
        "              99: 'Não informado'\r\n",
        "           })"
      ],
      "execution_count": 32,
      "outputs": [
        {
          "output_type": "execute_result",
          "data": {
            "text/html": [
              "<div>\n",
              "<style scoped>\n",
              "    .dataframe tbody tr th:only-of-type {\n",
              "        vertical-align: middle;\n",
              "    }\n",
              "\n",
              "    .dataframe tbody tr th {\n",
              "        vertical-align: top;\n",
              "    }\n",
              "\n",
              "    .dataframe thead th {\n",
              "        text-align: right;\n",
              "    }\n",
              "</style>\n",
              "<table border=\"1\" class=\"dataframe\">\n",
              "  <thead>\n",
              "    <tr style=\"text-align: right;\">\n",
              "      <th>NOS ÚLTIMOS 12 MESES com que frequência tem se sentido sozinho(a)?</th>\n",
              "      <th>Frequência</th>\n",
              "      <th>Percentual</th>\n",
              "    </tr>\n",
              "  </thead>\n",
              "  <tbody>\n",
              "    <tr>\n",
              "      <th>Nunca</th>\n",
              "      <td>5805</td>\n",
              "      <td>35.062817</td>\n",
              "    </tr>\n",
              "    <tr>\n",
              "      <th>Às vezes</th>\n",
              "      <td>4580</td>\n",
              "      <td>27.663687</td>\n",
              "    </tr>\n",
              "    <tr>\n",
              "      <th>Raramente</th>\n",
              "      <td>3584</td>\n",
              "      <td>21.647741</td>\n",
              "    </tr>\n",
              "    <tr>\n",
              "      <th>Na maioria das vezes</th>\n",
              "      <td>1601</td>\n",
              "      <td>9.670210</td>\n",
              "    </tr>\n",
              "    <tr>\n",
              "      <th>Sempre</th>\n",
              "      <td>920</td>\n",
              "      <td>5.556898</td>\n",
              "    </tr>\n",
              "    <tr>\n",
              "      <th>Não informado</th>\n",
              "      <td>66</td>\n",
              "      <td>0.398647</td>\n",
              "    </tr>\n",
              "  </tbody>\n",
              "</table>\n",
              "</div>"
            ],
            "text/plain": [
              "NOS ÚLTIMOS 12 MESES com que frequência tem se sentido sozinho(a)?   Frequência  Percentual\n",
              "Nunca                                                                      5805   35.062817\n",
              "Às vezes                                                                   4580   27.663687\n",
              "Raramente                                                                  3584   21.647741\n",
              "Na maioria das vezes                                                       1601    9.670210\n",
              "Sempre                                                                      920    5.556898\n",
              "Não informado                                                                66    0.398647"
            ]
          },
          "metadata": {
            "tags": []
          },
          "execution_count": 32
        }
      ]
    },
    {
      "cell_type": "code",
      "metadata": {
        "colab": {
          "base_uri": "https://localhost:8080/",
          "height": 252
        },
        "id": "q--AN5-aKMcL",
        "outputId": "773f14f5-6471-46da-f206-bdcd37367c19"
      },
      "source": [
        "criar_freq('VB12002', \r\n",
        "           'NOS ÚLTIMOS 12 MESES, com que frequência você não conseguiu dormir à noite porque algo o(a) preocupava muito? ',\r\n",
        "           {\r\n",
        "              1: 'Nunca',\r\n",
        "              2: 'Raramente',\r\n",
        "              3: 'Às vezes',\r\n",
        "              4: 'Na maioria das vezes',\r\n",
        "              5: 'Sempre',\r\n",
        "              99: 'Não informado'\r\n",
        "           })"
      ],
      "execution_count": 33,
      "outputs": [
        {
          "output_type": "execute_result",
          "data": {
            "text/html": [
              "<div>\n",
              "<style scoped>\n",
              "    .dataframe tbody tr th:only-of-type {\n",
              "        vertical-align: middle;\n",
              "    }\n",
              "\n",
              "    .dataframe tbody tr th {\n",
              "        vertical-align: top;\n",
              "    }\n",
              "\n",
              "    .dataframe thead th {\n",
              "        text-align: right;\n",
              "    }\n",
              "</style>\n",
              "<table border=\"1\" class=\"dataframe\">\n",
              "  <thead>\n",
              "    <tr style=\"text-align: right;\">\n",
              "      <th>NOS ÚLTIMOS 12 MESES, com que frequência você não conseguiu dormir à noite porque algo o(a) preocupava muito?</th>\n",
              "      <th>Frequência</th>\n",
              "      <th>Percentual</th>\n",
              "    </tr>\n",
              "  </thead>\n",
              "  <tbody>\n",
              "    <tr>\n",
              "      <th>Nunca</th>\n",
              "      <td>5701</td>\n",
              "      <td>34.434646</td>\n",
              "    </tr>\n",
              "    <tr>\n",
              "      <th>Raramente</th>\n",
              "      <td>4736</td>\n",
              "      <td>28.605943</td>\n",
              "    </tr>\n",
              "    <tr>\n",
              "      <th>Às vezes</th>\n",
              "      <td>4149</td>\n",
              "      <td>25.060401</td>\n",
              "    </tr>\n",
              "    <tr>\n",
              "      <th>Na maioria das vezes</th>\n",
              "      <td>1374</td>\n",
              "      <td>8.299106</td>\n",
              "    </tr>\n",
              "    <tr>\n",
              "      <th>Sempre</th>\n",
              "      <td>519</td>\n",
              "      <td>3.134815</td>\n",
              "    </tr>\n",
              "    <tr>\n",
              "      <th>Não informado</th>\n",
              "      <td>77</td>\n",
              "      <td>0.465088</td>\n",
              "    </tr>\n",
              "  </tbody>\n",
              "</table>\n",
              "</div>"
            ],
            "text/plain": [
              "NOS ÚLTIMOS 12 MESES, com que frequência você não conseguiu dormir à noite porque algo o(a) preocupava muito?   Frequência  Percentual\n",
              "Nunca                                                                                                                 5701   34.434646\n",
              "Raramente                                                                                                             4736   28.605943\n",
              "Às vezes                                                                                                              4149   25.060401\n",
              "Na maioria das vezes                                                                                                  1374    8.299106\n",
              "Sempre                                                                                                                 519    3.134815\n",
              "Não informado                                                                                                           77    0.465088"
            ]
          },
          "metadata": {
            "tags": []
          },
          "execution_count": 33
        }
      ]
    },
    {
      "cell_type": "code",
      "metadata": {
        "colab": {
          "base_uri": "https://localhost:8080/",
          "height": 204
        },
        "id": "dN1QzorRKZlt",
        "outputId": "dc3ecada-b255-48d9-c707-ddccb559f495"
      },
      "source": [
        "criar_freq('VB12003', \r\n",
        "           'Quantos amigos(as) próximos você tem?',\r\n",
        "           {\r\n",
        "              1: 'Nenhum',\r\n",
        "              2: '1',\r\n",
        "              3: '2',\r\n",
        "              4: '3 ou mais',\r\n",
        "              99: 'Não informado'\r\n",
        "           })"
      ],
      "execution_count": 34,
      "outputs": [
        {
          "output_type": "execute_result",
          "data": {
            "text/html": [
              "<div>\n",
              "<style scoped>\n",
              "    .dataframe tbody tr th:only-of-type {\n",
              "        vertical-align: middle;\n",
              "    }\n",
              "\n",
              "    .dataframe tbody tr th {\n",
              "        vertical-align: top;\n",
              "    }\n",
              "\n",
              "    .dataframe thead th {\n",
              "        text-align: right;\n",
              "    }\n",
              "</style>\n",
              "<table border=\"1\" class=\"dataframe\">\n",
              "  <thead>\n",
              "    <tr style=\"text-align: right;\">\n",
              "      <th>Quantos amigos(as) próximos você tem?</th>\n",
              "      <th>Frequência</th>\n",
              "      <th>Percentual</th>\n",
              "    </tr>\n",
              "  </thead>\n",
              "  <tbody>\n",
              "    <tr>\n",
              "      <th>3 ou mais</th>\n",
              "      <td>12803</td>\n",
              "      <td>77.331481</td>\n",
              "    </tr>\n",
              "    <tr>\n",
              "      <th>2</th>\n",
              "      <td>2056</td>\n",
              "      <td>12.418459</td>\n",
              "    </tr>\n",
              "    <tr>\n",
              "      <th>1</th>\n",
              "      <td>988</td>\n",
              "      <td>5.967625</td>\n",
              "    </tr>\n",
              "    <tr>\n",
              "      <th>Nenhum</th>\n",
              "      <td>642</td>\n",
              "      <td>3.877748</td>\n",
              "    </tr>\n",
              "    <tr>\n",
              "      <th>Não informado</th>\n",
              "      <td>67</td>\n",
              "      <td>0.404687</td>\n",
              "    </tr>\n",
              "  </tbody>\n",
              "</table>\n",
              "</div>"
            ],
            "text/plain": [
              "Quantos amigos(as) próximos você tem?  Frequência  Percentual\n",
              "3 ou mais                                   12803   77.331481\n",
              "2                                            2056   12.418459\n",
              "1                                             988    5.967625\n",
              "Nenhum                                        642    3.877748\n",
              "Não informado                                  67    0.404687"
            ]
          },
          "metadata": {
            "tags": []
          },
          "execution_count": 34
        }
      ]
    },
    {
      "cell_type": "markdown",
      "metadata": {
        "id": "5ZvFlrIH15r4"
      },
      "source": [
        "# Aula 03"
      ]
    },
    {
      "cell_type": "code",
      "metadata": {
        "colab": {
          "base_uri": "https://localhost:8080/"
        },
        "id": "_8dHvoaiK2eK",
        "outputId": "256fa750-70e4-4a02-dd1e-0ee40a10d34a"
      },
      "source": [
        "dados['IMC'] = dados['VB17003']/(dados['VB17004']/100)**2\r\n",
        "dados['IMC']"
      ],
      "execution_count": 35,
      "outputs": [
        {
          "output_type": "execute_result",
          "data": {
            "text/plain": [
              "0        15.051321\n",
              "1        21.727839\n",
              "2        18.502907\n",
              "3        23.322831\n",
              "4        28.122076\n",
              "           ...    \n",
              "16551    20.113223\n",
              "16552    17.930782\n",
              "16553    23.968489\n",
              "16554    18.995343\n",
              "16555    23.303246\n",
              "Name: IMC, Length: 16556, dtype: float64"
            ]
          },
          "metadata": {
            "tags": []
          },
          "execution_count": 35
        }
      ]
    },
    {
      "cell_type": "code",
      "metadata": {
        "id": "RoJC4O4y3jAX"
      },
      "source": [
        "classes = [0, 18.5, 25, 30, 60]\r\n",
        "labels = ['abaixo', 'ideal', 'sobrepeso', 'obesidade']"
      ],
      "execution_count": 36,
      "outputs": []
    },
    {
      "cell_type": "code",
      "metadata": {
        "colab": {
          "base_uri": "https://localhost:8080/",
          "height": 419
        },
        "id": "qYIHhusH5u7Z",
        "outputId": "145c6270-67f1-4c3f-bdca-7cfcd4ff1a3a"
      },
      "source": [
        "dados['CLASSE_IMC'] = pd.cut(x = dados['IMC'],\r\n",
        "       bins = classes,\r\n",
        "       labels = labels,\r\n",
        "       include_lowest = True)\r\n",
        "dados[['IMC','CLASSE_IMC']]"
      ],
      "execution_count": 37,
      "outputs": [
        {
          "output_type": "execute_result",
          "data": {
            "text/html": [
              "<div>\n",
              "<style scoped>\n",
              "    .dataframe tbody tr th:only-of-type {\n",
              "        vertical-align: middle;\n",
              "    }\n",
              "\n",
              "    .dataframe tbody tr th {\n",
              "        vertical-align: top;\n",
              "    }\n",
              "\n",
              "    .dataframe thead th {\n",
              "        text-align: right;\n",
              "    }\n",
              "</style>\n",
              "<table border=\"1\" class=\"dataframe\">\n",
              "  <thead>\n",
              "    <tr style=\"text-align: right;\">\n",
              "      <th></th>\n",
              "      <th>IMC</th>\n",
              "      <th>CLASSE_IMC</th>\n",
              "    </tr>\n",
              "  </thead>\n",
              "  <tbody>\n",
              "    <tr>\n",
              "      <th>0</th>\n",
              "      <td>15.051321</td>\n",
              "      <td>abaixo</td>\n",
              "    </tr>\n",
              "    <tr>\n",
              "      <th>1</th>\n",
              "      <td>21.727839</td>\n",
              "      <td>ideal</td>\n",
              "    </tr>\n",
              "    <tr>\n",
              "      <th>2</th>\n",
              "      <td>18.502907</td>\n",
              "      <td>ideal</td>\n",
              "    </tr>\n",
              "    <tr>\n",
              "      <th>3</th>\n",
              "      <td>23.322831</td>\n",
              "      <td>ideal</td>\n",
              "    </tr>\n",
              "    <tr>\n",
              "      <th>4</th>\n",
              "      <td>28.122076</td>\n",
              "      <td>sobrepeso</td>\n",
              "    </tr>\n",
              "    <tr>\n",
              "      <th>...</th>\n",
              "      <td>...</td>\n",
              "      <td>...</td>\n",
              "    </tr>\n",
              "    <tr>\n",
              "      <th>16551</th>\n",
              "      <td>20.113223</td>\n",
              "      <td>ideal</td>\n",
              "    </tr>\n",
              "    <tr>\n",
              "      <th>16552</th>\n",
              "      <td>17.930782</td>\n",
              "      <td>abaixo</td>\n",
              "    </tr>\n",
              "    <tr>\n",
              "      <th>16553</th>\n",
              "      <td>23.968489</td>\n",
              "      <td>ideal</td>\n",
              "    </tr>\n",
              "    <tr>\n",
              "      <th>16554</th>\n",
              "      <td>18.995343</td>\n",
              "      <td>ideal</td>\n",
              "    </tr>\n",
              "    <tr>\n",
              "      <th>16555</th>\n",
              "      <td>23.303246</td>\n",
              "      <td>ideal</td>\n",
              "    </tr>\n",
              "  </tbody>\n",
              "</table>\n",
              "<p>16556 rows × 2 columns</p>\n",
              "</div>"
            ],
            "text/plain": [
              "             IMC CLASSE_IMC\n",
              "0      15.051321     abaixo\n",
              "1      21.727839      ideal\n",
              "2      18.502907      ideal\n",
              "3      23.322831      ideal\n",
              "4      28.122076  sobrepeso\n",
              "...          ...        ...\n",
              "16551  20.113223      ideal\n",
              "16552  17.930782     abaixo\n",
              "16553  23.968489      ideal\n",
              "16554  18.995343      ideal\n",
              "16555  23.303246      ideal\n",
              "\n",
              "[16556 rows x 2 columns]"
            ]
          },
          "metadata": {
            "tags": []
          },
          "execution_count": 37
        }
      ]
    },
    {
      "cell_type": "code",
      "metadata": {
        "colab": {
          "base_uri": "https://localhost:8080/",
          "height": 253
        },
        "id": "h893aEEk6X4G",
        "outputId": "bf20be57-11cb-4c78-ca93-809893dac6e5"
      },
      "source": [
        "dados.head()"
      ],
      "execution_count": 38,
      "outputs": [
        {
          "output_type": "execute_result",
          "data": {
            "text/html": [
              "<div>\n",
              "<style scoped>\n",
              "    .dataframe tbody tr th:only-of-type {\n",
              "        vertical-align: middle;\n",
              "    }\n",
              "\n",
              "    .dataframe tbody tr th {\n",
              "        vertical-align: top;\n",
              "    }\n",
              "\n",
              "    .dataframe thead th {\n",
              "        text-align: right;\n",
              "    }\n",
              "</style>\n",
              "<table border=\"1\" class=\"dataframe\">\n",
              "  <thead>\n",
              "    <tr style=\"text-align: right;\">\n",
              "      <th></th>\n",
              "      <th>ANOPESQ</th>\n",
              "      <th>PAIS</th>\n",
              "      <th>REGEOGR</th>\n",
              "      <th>VB00004</th>\n",
              "      <th>VB01001</th>\n",
              "      <th>VB01002</th>\n",
              "      <th>VB01003</th>\n",
              "      <th>VB01004</th>\n",
              "      <th>VB01005</th>\n",
              "      <th>VB01006</th>\n",
              "      <th>VB01007</th>\n",
              "      <th>VB01008A</th>\n",
              "      <th>VB01010A</th>\n",
              "      <th>VB01011</th>\n",
              "      <th>VB01012</th>\n",
              "      <th>VB01013</th>\n",
              "      <th>VB01014</th>\n",
              "      <th>VB01015A</th>\n",
              "      <th>VB01016</th>\n",
              "      <th>VB01017</th>\n",
              "      <th>VB01018</th>\n",
              "      <th>VB01019</th>\n",
              "      <th>VB01020A</th>\n",
              "      <th>VB01021</th>\n",
              "      <th>VB01022</th>\n",
              "      <th>VB01023</th>\n",
              "      <th>VB01024</th>\n",
              "      <th>VB01025</th>\n",
              "      <th>VB01026</th>\n",
              "      <th>VB02001</th>\n",
              "      <th>VB02002</th>\n",
              "      <th>VB02004A</th>\n",
              "      <th>VB02010</th>\n",
              "      <th>VB02011</th>\n",
              "      <th>VB02013</th>\n",
              "      <th>VB02017A</th>\n",
              "      <th>VB02018A</th>\n",
              "      <th>VB02019A</th>\n",
              "      <th>VB02020A</th>\n",
              "      <th>VB02021</th>\n",
              "      <th>...</th>\n",
              "      <th>VB11007</th>\n",
              "      <th>VB12001</th>\n",
              "      <th>VB12002</th>\n",
              "      <th>VB12003</th>\n",
              "      <th>VB13001</th>\n",
              "      <th>VB13002A</th>\n",
              "      <th>VB13004A</th>\n",
              "      <th>VB13005</th>\n",
              "      <th>VB13006</th>\n",
              "      <th>VB13007</th>\n",
              "      <th>VB13008</th>\n",
              "      <th>VB13009</th>\n",
              "      <th>VB14001</th>\n",
              "      <th>VB14002</th>\n",
              "      <th>VB16001A01</th>\n",
              "      <th>VB16001A02</th>\n",
              "      <th>VB16001A03</th>\n",
              "      <th>VB16001A04</th>\n",
              "      <th>VB16001A05</th>\n",
              "      <th>VB16001A06</th>\n",
              "      <th>VB16001A07</th>\n",
              "      <th>VB16001A08</th>\n",
              "      <th>VB17001</th>\n",
              "      <th>VB17002</th>\n",
              "      <th>VB17003</th>\n",
              "      <th>VB17004</th>\n",
              "      <th>VB17005</th>\n",
              "      <th>VB17006</th>\n",
              "      <th>ESTRATO_EXP</th>\n",
              "      <th>ESTRATOGEOREG</th>\n",
              "      <th>PESO</th>\n",
              "      <th>V0006</th>\n",
              "      <th>V0007</th>\n",
              "      <th>V0008</th>\n",
              "      <th>V0041</th>\n",
              "      <th>aluno</th>\n",
              "      <th>escola</th>\n",
              "      <th>turma</th>\n",
              "      <th>IMC</th>\n",
              "      <th>CLASSE_IMC</th>\n",
              "    </tr>\n",
              "  </thead>\n",
              "  <tbody>\n",
              "    <tr>\n",
              "      <th>0</th>\n",
              "      <td>2015</td>\n",
              "      <td>76</td>\n",
              "      <td>1</td>\n",
              "      <td>1</td>\n",
              "      <td>2</td>\n",
              "      <td>1</td>\n",
              "      <td>13</td>\n",
              "      <td>7</td>\n",
              "      <td>7</td>\n",
              "      <td>1</td>\n",
              "      <td>2</td>\n",
              "      <td>7</td>\n",
              "      <td>3</td>\n",
              "      <td>2</td>\n",
              "      <td>-1</td>\n",
              "      <td>1</td>\n",
              "      <td>1</td>\n",
              "      <td>1</td>\n",
              "      <td>1</td>\n",
              "      <td>1</td>\n",
              "      <td>2</td>\n",
              "      <td>4</td>\n",
              "      <td>2</td>\n",
              "      <td>4</td>\n",
              "      <td>1</td>\n",
              "      <td>2</td>\n",
              "      <td>2</td>\n",
              "      <td>5</td>\n",
              "      <td>1</td>\n",
              "      <td>8</td>\n",
              "      <td>3</td>\n",
              "      <td>4</td>\n",
              "      <td>3</td>\n",
              "      <td>6</td>\n",
              "      <td>6</td>\n",
              "      <td>1</td>\n",
              "      <td>6</td>\n",
              "      <td>1</td>\n",
              "      <td>-1</td>\n",
              "      <td>2</td>\n",
              "      <td>...</td>\n",
              "      <td>2</td>\n",
              "      <td>1</td>\n",
              "      <td>1</td>\n",
              "      <td>4</td>\n",
              "      <td>2</td>\n",
              "      <td>-1</td>\n",
              "      <td>3</td>\n",
              "      <td>1</td>\n",
              "      <td>1</td>\n",
              "      <td>-1</td>\n",
              "      <td>1</td>\n",
              "      <td>1</td>\n",
              "      <td>2</td>\n",
              "      <td>2</td>\n",
              "      <td>1</td>\n",
              "      <td>2</td>\n",
              "      <td>2</td>\n",
              "      <td>2</td>\n",
              "      <td>2</td>\n",
              "      <td>2</td>\n",
              "      <td>2</td>\n",
              "      <td>2</td>\n",
              "      <td>371.0</td>\n",
              "      <td>1570.0</td>\n",
              "      <td>37.1</td>\n",
              "      <td>157.0</td>\n",
              "      <td>2</td>\n",
              "      <td>1</td>\n",
              "      <td>1223</td>\n",
              "      <td>1</td>\n",
              "      <td>299.735235</td>\n",
              "      <td>1</td>\n",
              "      <td>2</td>\n",
              "      <td>4</td>\n",
              "      <td>1</td>\n",
              "      <td>1</td>\n",
              "      <td>1</td>\n",
              "      <td>296</td>\n",
              "      <td>15.051321</td>\n",
              "      <td>abaixo</td>\n",
              "    </tr>\n",
              "    <tr>\n",
              "      <th>1</th>\n",
              "      <td>2015</td>\n",
              "      <td>76</td>\n",
              "      <td>1</td>\n",
              "      <td>1</td>\n",
              "      <td>2</td>\n",
              "      <td>1</td>\n",
              "      <td>14</td>\n",
              "      <td>4</td>\n",
              "      <td>7</td>\n",
              "      <td>1</td>\n",
              "      <td>1</td>\n",
              "      <td>7</td>\n",
              "      <td>3</td>\n",
              "      <td>2</td>\n",
              "      <td>-1</td>\n",
              "      <td>1</td>\n",
              "      <td>1</td>\n",
              "      <td>1</td>\n",
              "      <td>1</td>\n",
              "      <td>1</td>\n",
              "      <td>2</td>\n",
              "      <td>2</td>\n",
              "      <td>2</td>\n",
              "      <td>4</td>\n",
              "      <td>1</td>\n",
              "      <td>2</td>\n",
              "      <td>2</td>\n",
              "      <td>5</td>\n",
              "      <td>3</td>\n",
              "      <td>8</td>\n",
              "      <td>2</td>\n",
              "      <td>1</td>\n",
              "      <td>8</td>\n",
              "      <td>8</td>\n",
              "      <td>6</td>\n",
              "      <td>1</td>\n",
              "      <td>1</td>\n",
              "      <td>5</td>\n",
              "      <td>-1</td>\n",
              "      <td>2</td>\n",
              "      <td>...</td>\n",
              "      <td>2</td>\n",
              "      <td>4</td>\n",
              "      <td>4</td>\n",
              "      <td>4</td>\n",
              "      <td>1</td>\n",
              "      <td>2</td>\n",
              "      <td>3</td>\n",
              "      <td>3</td>\n",
              "      <td>1</td>\n",
              "      <td>-1</td>\n",
              "      <td>1</td>\n",
              "      <td>1</td>\n",
              "      <td>2</td>\n",
              "      <td>2</td>\n",
              "      <td>2</td>\n",
              "      <td>2</td>\n",
              "      <td>2</td>\n",
              "      <td>1</td>\n",
              "      <td>2</td>\n",
              "      <td>2</td>\n",
              "      <td>2</td>\n",
              "      <td>2</td>\n",
              "      <td>502.0</td>\n",
              "      <td>1520.0</td>\n",
              "      <td>50.2</td>\n",
              "      <td>152.0</td>\n",
              "      <td>2</td>\n",
              "      <td>2</td>\n",
              "      <td>1223</td>\n",
              "      <td>1</td>\n",
              "      <td>355.170081</td>\n",
              "      <td>1</td>\n",
              "      <td>2</td>\n",
              "      <td>4</td>\n",
              "      <td>1</td>\n",
              "      <td>2</td>\n",
              "      <td>1</td>\n",
              "      <td>296</td>\n",
              "      <td>21.727839</td>\n",
              "      <td>ideal</td>\n",
              "    </tr>\n",
              "    <tr>\n",
              "      <th>2</th>\n",
              "      <td>2015</td>\n",
              "      <td>76</td>\n",
              "      <td>1</td>\n",
              "      <td>1</td>\n",
              "      <td>1</td>\n",
              "      <td>4</td>\n",
              "      <td>13</td>\n",
              "      <td>6</td>\n",
              "      <td>7</td>\n",
              "      <td>1</td>\n",
              "      <td>1</td>\n",
              "      <td>5</td>\n",
              "      <td>5</td>\n",
              "      <td>2</td>\n",
              "      <td>-1</td>\n",
              "      <td>2</td>\n",
              "      <td>1</td>\n",
              "      <td>1</td>\n",
              "      <td>1</td>\n",
              "      <td>1</td>\n",
              "      <td>2</td>\n",
              "      <td>3</td>\n",
              "      <td>1</td>\n",
              "      <td>4</td>\n",
              "      <td>1</td>\n",
              "      <td>2</td>\n",
              "      <td>2</td>\n",
              "      <td>5</td>\n",
              "      <td>3</td>\n",
              "      <td>2</td>\n",
              "      <td>3</td>\n",
              "      <td>1</td>\n",
              "      <td>8</td>\n",
              "      <td>2</td>\n",
              "      <td>8</td>\n",
              "      <td>1</td>\n",
              "      <td>1</td>\n",
              "      <td>5</td>\n",
              "      <td>5</td>\n",
              "      <td>1</td>\n",
              "      <td>...</td>\n",
              "      <td>2</td>\n",
              "      <td>1</td>\n",
              "      <td>2</td>\n",
              "      <td>3</td>\n",
              "      <td>1</td>\n",
              "      <td>2</td>\n",
              "      <td>1</td>\n",
              "      <td>2</td>\n",
              "      <td>5</td>\n",
              "      <td>99</td>\n",
              "      <td>1</td>\n",
              "      <td>-1</td>\n",
              "      <td>2</td>\n",
              "      <td>2</td>\n",
              "      <td>1</td>\n",
              "      <td>1</td>\n",
              "      <td>1</td>\n",
              "      <td>1</td>\n",
              "      <td>1</td>\n",
              "      <td>1</td>\n",
              "      <td>1</td>\n",
              "      <td>1</td>\n",
              "      <td>482.0</td>\n",
              "      <td>1614.0</td>\n",
              "      <td>48.2</td>\n",
              "      <td>161.4</td>\n",
              "      <td>2</td>\n",
              "      <td>2</td>\n",
              "      <td>1223</td>\n",
              "      <td>1</td>\n",
              "      <td>299.735235</td>\n",
              "      <td>1</td>\n",
              "      <td>2</td>\n",
              "      <td>4</td>\n",
              "      <td>1</td>\n",
              "      <td>3</td>\n",
              "      <td>1</td>\n",
              "      <td>296</td>\n",
              "      <td>18.502907</td>\n",
              "      <td>ideal</td>\n",
              "    </tr>\n",
              "    <tr>\n",
              "      <th>3</th>\n",
              "      <td>2015</td>\n",
              "      <td>76</td>\n",
              "      <td>1</td>\n",
              "      <td>1</td>\n",
              "      <td>1</td>\n",
              "      <td>1</td>\n",
              "      <td>14</td>\n",
              "      <td>6</td>\n",
              "      <td>7</td>\n",
              "      <td>1</td>\n",
              "      <td>1</td>\n",
              "      <td>7</td>\n",
              "      <td>4</td>\n",
              "      <td>2</td>\n",
              "      <td>-1</td>\n",
              "      <td>1</td>\n",
              "      <td>1</td>\n",
              "      <td>1</td>\n",
              "      <td>1</td>\n",
              "      <td>1</td>\n",
              "      <td>2</td>\n",
              "      <td>4</td>\n",
              "      <td>2</td>\n",
              "      <td>4</td>\n",
              "      <td>1</td>\n",
              "      <td>2</td>\n",
              "      <td>2</td>\n",
              "      <td>6</td>\n",
              "      <td>3</td>\n",
              "      <td>2</td>\n",
              "      <td>4</td>\n",
              "      <td>1</td>\n",
              "      <td>3</td>\n",
              "      <td>2</td>\n",
              "      <td>7</td>\n",
              "      <td>1</td>\n",
              "      <td>5</td>\n",
              "      <td>1</td>\n",
              "      <td>-1</td>\n",
              "      <td>2</td>\n",
              "      <td>...</td>\n",
              "      <td>2</td>\n",
              "      <td>2</td>\n",
              "      <td>2</td>\n",
              "      <td>4</td>\n",
              "      <td>1</td>\n",
              "      <td>10</td>\n",
              "      <td>3</td>\n",
              "      <td>1</td>\n",
              "      <td>2</td>\n",
              "      <td>-1</td>\n",
              "      <td>1</td>\n",
              "      <td>-1</td>\n",
              "      <td>2</td>\n",
              "      <td>2</td>\n",
              "      <td>1</td>\n",
              "      <td>2</td>\n",
              "      <td>2</td>\n",
              "      <td>2</td>\n",
              "      <td>1</td>\n",
              "      <td>2</td>\n",
              "      <td>2</td>\n",
              "      <td>2</td>\n",
              "      <td>694.0</td>\n",
              "      <td>1725.0</td>\n",
              "      <td>69.4</td>\n",
              "      <td>172.5</td>\n",
              "      <td>2</td>\n",
              "      <td>3</td>\n",
              "      <td>1223</td>\n",
              "      <td>1</td>\n",
              "      <td>355.170081</td>\n",
              "      <td>1</td>\n",
              "      <td>2</td>\n",
              "      <td>4</td>\n",
              "      <td>1</td>\n",
              "      <td>4</td>\n",
              "      <td>1</td>\n",
              "      <td>296</td>\n",
              "      <td>23.322831</td>\n",
              "      <td>ideal</td>\n",
              "    </tr>\n",
              "    <tr>\n",
              "      <th>4</th>\n",
              "      <td>2015</td>\n",
              "      <td>76</td>\n",
              "      <td>1</td>\n",
              "      <td>1</td>\n",
              "      <td>1</td>\n",
              "      <td>1</td>\n",
              "      <td>13</td>\n",
              "      <td>9</td>\n",
              "      <td>7</td>\n",
              "      <td>1</td>\n",
              "      <td>2</td>\n",
              "      <td>5</td>\n",
              "      <td>4</td>\n",
              "      <td>2</td>\n",
              "      <td>-1</td>\n",
              "      <td>2</td>\n",
              "      <td>1</td>\n",
              "      <td>1</td>\n",
              "      <td>1</td>\n",
              "      <td>1</td>\n",
              "      <td>2</td>\n",
              "      <td>5</td>\n",
              "      <td>1</td>\n",
              "      <td>4</td>\n",
              "      <td>1</td>\n",
              "      <td>2</td>\n",
              "      <td>2</td>\n",
              "      <td>6</td>\n",
              "      <td>5</td>\n",
              "      <td>6</td>\n",
              "      <td>3</td>\n",
              "      <td>5</td>\n",
              "      <td>2</td>\n",
              "      <td>6</td>\n",
              "      <td>2</td>\n",
              "      <td>1</td>\n",
              "      <td>5</td>\n",
              "      <td>1</td>\n",
              "      <td>5</td>\n",
              "      <td>1</td>\n",
              "      <td>...</td>\n",
              "      <td>4</td>\n",
              "      <td>2</td>\n",
              "      <td>2</td>\n",
              "      <td>4</td>\n",
              "      <td>1</td>\n",
              "      <td>3</td>\n",
              "      <td>2</td>\n",
              "      <td>2</td>\n",
              "      <td>2</td>\n",
              "      <td>13</td>\n",
              "      <td>1</td>\n",
              "      <td>-1</td>\n",
              "      <td>1</td>\n",
              "      <td>2</td>\n",
              "      <td>1</td>\n",
              "      <td>1</td>\n",
              "      <td>1</td>\n",
              "      <td>1</td>\n",
              "      <td>1</td>\n",
              "      <td>1</td>\n",
              "      <td>1</td>\n",
              "      <td>1</td>\n",
              "      <td>789.0</td>\n",
              "      <td>1675.0</td>\n",
              "      <td>78.9</td>\n",
              "      <td>167.5</td>\n",
              "      <td>2</td>\n",
              "      <td>4</td>\n",
              "      <td>1223</td>\n",
              "      <td>1</td>\n",
              "      <td>299.735235</td>\n",
              "      <td>1</td>\n",
              "      <td>2</td>\n",
              "      <td>4</td>\n",
              "      <td>1</td>\n",
              "      <td>5</td>\n",
              "      <td>1</td>\n",
              "      <td>296</td>\n",
              "      <td>28.122076</td>\n",
              "      <td>sobrepeso</td>\n",
              "    </tr>\n",
              "  </tbody>\n",
              "</table>\n",
              "<p>5 rows × 183 columns</p>\n",
              "</div>"
            ],
            "text/plain": [
              "   ANOPESQ  PAIS  REGEOGR  VB00004  ...  escola  turma        IMC  CLASSE_IMC\n",
              "0     2015    76        1        1  ...       1    296  15.051321      abaixo\n",
              "1     2015    76        1        1  ...       1    296  21.727839       ideal\n",
              "2     2015    76        1        1  ...       1    296  18.502907       ideal\n",
              "3     2015    76        1        1  ...       1    296  23.322831       ideal\n",
              "4     2015    76        1        1  ...       1    296  28.122076   sobrepeso\n",
              "\n",
              "[5 rows x 183 columns]"
            ]
          },
          "metadata": {
            "tags": []
          },
          "execution_count": 38
        }
      ]
    },
    {
      "cell_type": "code",
      "metadata": {
        "colab": {
          "base_uri": "https://localhost:8080/",
          "height": 173
        },
        "id": "CzWUR1pN6-u1",
        "outputId": "4edf1a2b-0fa9-46cc-c6ec-2fc0805744a1"
      },
      "source": [
        "frequencia = dados['CLASSE_IMC'].value_counts()\r\n",
        "percentual = dados['CLASSE_IMC'].value_counts(normalize=True)*100\r\n",
        "dist_freq = pd.DataFrame({'Frequência': frequencia, 'Percentual': percentual})\r\n",
        "# dist_freq.rename(index=respostas, inplace=True)\r\n",
        "# dist_freq.rename_axis('Sentimento com relação ao corpo', axis=1, inplace=True)\r\n",
        "dist_freq"
      ],
      "execution_count": 39,
      "outputs": [
        {
          "output_type": "execute_result",
          "data": {
            "text/html": [
              "<div>\n",
              "<style scoped>\n",
              "    .dataframe tbody tr th:only-of-type {\n",
              "        vertical-align: middle;\n",
              "    }\n",
              "\n",
              "    .dataframe tbody tr th {\n",
              "        vertical-align: top;\n",
              "    }\n",
              "\n",
              "    .dataframe thead th {\n",
              "        text-align: right;\n",
              "    }\n",
              "</style>\n",
              "<table border=\"1\" class=\"dataframe\">\n",
              "  <thead>\n",
              "    <tr style=\"text-align: right;\">\n",
              "      <th></th>\n",
              "      <th>Frequência</th>\n",
              "      <th>Percentual</th>\n",
              "    </tr>\n",
              "  </thead>\n",
              "  <tbody>\n",
              "    <tr>\n",
              "      <th>ideal</th>\n",
              "      <td>9188</td>\n",
              "      <td>55.496497</td>\n",
              "    </tr>\n",
              "    <tr>\n",
              "      <th>abaixo</th>\n",
              "      <td>4975</td>\n",
              "      <td>30.049529</td>\n",
              "    </tr>\n",
              "    <tr>\n",
              "      <th>sobrepeso</th>\n",
              "      <td>1760</td>\n",
              "      <td>10.630587</td>\n",
              "    </tr>\n",
              "    <tr>\n",
              "      <th>obesidade</th>\n",
              "      <td>633</td>\n",
              "      <td>3.823387</td>\n",
              "    </tr>\n",
              "  </tbody>\n",
              "</table>\n",
              "</div>"
            ],
            "text/plain": [
              "           Frequência  Percentual\n",
              "ideal            9188   55.496497\n",
              "abaixo           4975   30.049529\n",
              "sobrepeso        1760   10.630587\n",
              "obesidade         633    3.823387"
            ]
          },
          "metadata": {
            "tags": []
          },
          "execution_count": 39
        }
      ]
    },
    {
      "cell_type": "markdown",
      "metadata": {
        "id": "GehndU_d-wgW"
      },
      "source": [
        "No caso da altura, por exemplo, não temos parêmetros de intervalos para calcularmos a frequencia. Nesse caso, vamos calcular primeiro os valores mínimo e máximo."
      ]
    },
    {
      "cell_type": "code",
      "metadata": {
        "colab": {
          "base_uri": "https://localhost:8080/"
        },
        "id": "SHS9E4Vk8oUA",
        "outputId": "049ff44a-2d14-4a68-d691-bae8fc859470"
      },
      "source": [
        "dados['VB17004'].min()"
      ],
      "execution_count": 40,
      "outputs": [
        {
          "output_type": "execute_result",
          "data": {
            "text/plain": [
              "124.1"
            ]
          },
          "metadata": {
            "tags": []
          },
          "execution_count": 40
        }
      ]
    },
    {
      "cell_type": "code",
      "metadata": {
        "colab": {
          "base_uri": "https://localhost:8080/"
        },
        "id": "NLpCdL2c_DF0",
        "outputId": "61006f13-68fc-40ee-f2d3-f8e0551bd4d7"
      },
      "source": [
        "dados['VB17004'].max()\r\n"
      ],
      "execution_count": 41,
      "outputs": [
        {
          "output_type": "execute_result",
          "data": {
            "text/plain": [
              "195.3"
            ]
          },
          "metadata": {
            "tags": []
          },
          "execution_count": 41
        }
      ]
    },
    {
      "cell_type": "markdown",
      "metadata": {
        "id": "tknrBwo3_VCm"
      },
      "source": [
        "O número de classes (k) depende do tamanho da amostra. <br>\r\n",
        "A fórmula é: <br>\r\n",
        "k = 1 + 10 / 3 * log10(tamanho_amostra) <br><br>\r\n",
        "Para atilizarmos essa fómula, vamos importar o numpy e utilizá-lo para calcular o log10"
      ]
    },
    {
      "cell_type": "code",
      "metadata": {
        "colab": {
          "base_uri": "https://localhost:8080/"
        },
        "id": "pGMhqLNN_FcH",
        "outputId": "4cdd1268-698c-4791-fc30-f9770c436c56"
      },
      "source": [
        "tamanho_amostra = len(dados)\r\n",
        "tamanho_amostra"
      ],
      "execution_count": 42,
      "outputs": [
        {
          "output_type": "execute_result",
          "data": {
            "text/plain": [
              "16556"
            ]
          },
          "metadata": {
            "tags": []
          },
          "execution_count": 42
        }
      ]
    },
    {
      "cell_type": "code",
      "metadata": {
        "colab": {
          "base_uri": "https://localhost:8080/"
        },
        "id": "KjiTeeIv_fP5",
        "outputId": "b87d0334-b33d-489d-9d0b-5100aa9232c7"
      },
      "source": [
        "k = int(1 + ((10/3)*np.log10(tamanho_amostra)))\r\n",
        "k"
      ],
      "execution_count": 43,
      "outputs": [
        {
          "output_type": "execute_result",
          "data": {
            "text/plain": [
              "15"
            ]
          },
          "metadata": {
            "tags": []
          },
          "execution_count": 43
        }
      ]
    },
    {
      "cell_type": "code",
      "metadata": {
        "colab": {
          "base_uri": "https://localhost:8080/"
        },
        "id": "QVu1siuIAJQP",
        "outputId": "9feceb64-ce3f-4e7c-c8d9-0508e05eab06"
      },
      "source": [
        "dados['CLASSE_ALTURA'] = pd.cut(x = dados['VB17004'], bins = k, include_lowest=True)\r\n",
        "dados['CLASSE_ALTURA']"
      ],
      "execution_count": 44,
      "outputs": [
        {
          "output_type": "execute_result",
          "data": {
            "text/plain": [
              "0         (152.58, 157.327]\n",
              "1         (147.833, 152.58]\n",
              "2        (157.327, 162.073]\n",
              "3        (171.567, 176.313]\n",
              "4         (166.82, 171.567]\n",
              "                ...        \n",
              "16551     (166.82, 171.567]\n",
              "16552     (181.06, 185.807]\n",
              "16553    (157.327, 162.073]\n",
              "16554    (157.327, 162.073]\n",
              "16555     (162.073, 166.82]\n",
              "Name: CLASSE_ALTURA, Length: 16556, dtype: category\n",
              "Categories (15, interval[float64]): [(124.02799999999999, 128.847] < (128.847, 133.593] < (133.593, 138.34] <\n",
              "                                     (138.34, 143.087] ... (176.313, 181.06] < (181.06, 185.807] <\n",
              "                                     (185.807, 190.553] < (190.553, 195.3]]"
            ]
          },
          "metadata": {
            "tags": []
          },
          "execution_count": 44
        }
      ]
    },
    {
      "cell_type": "code",
      "metadata": {
        "colab": {
          "base_uri": "https://localhost:8080/",
          "height": 514
        },
        "id": "p-RIWxP6CYbB",
        "outputId": "cdeffeda-051c-4da9-e9b0-9191f832e857"
      },
      "source": [
        "frequencia = dados['CLASSE_ALTURA'].value_counts()\r\n",
        "percentual = dados['CLASSE_ALTURA'].value_counts(normalize=True)*100\r\n",
        "dist_freq = pd.DataFrame({'Frequência': frequencia, 'Percentual': percentual})\r\n",
        "dist_freq"
      ],
      "execution_count": 45,
      "outputs": [
        {
          "output_type": "execute_result",
          "data": {
            "text/html": [
              "<div>\n",
              "<style scoped>\n",
              "    .dataframe tbody tr th:only-of-type {\n",
              "        vertical-align: middle;\n",
              "    }\n",
              "\n",
              "    .dataframe tbody tr th {\n",
              "        vertical-align: top;\n",
              "    }\n",
              "\n",
              "    .dataframe thead th {\n",
              "        text-align: right;\n",
              "    }\n",
              "</style>\n",
              "<table border=\"1\" class=\"dataframe\">\n",
              "  <thead>\n",
              "    <tr style=\"text-align: right;\">\n",
              "      <th></th>\n",
              "      <th>Frequência</th>\n",
              "      <th>Percentual</th>\n",
              "    </tr>\n",
              "  </thead>\n",
              "  <tbody>\n",
              "    <tr>\n",
              "      <th>(157.327, 162.073]</th>\n",
              "      <td>3110</td>\n",
              "      <td>18.784731</td>\n",
              "    </tr>\n",
              "    <tr>\n",
              "      <th>(152.58, 157.327]</th>\n",
              "      <td>2734</td>\n",
              "      <td>16.513651</td>\n",
              "    </tr>\n",
              "    <tr>\n",
              "      <th>(162.073, 166.82]</th>\n",
              "      <td>2550</td>\n",
              "      <td>15.402271</td>\n",
              "    </tr>\n",
              "    <tr>\n",
              "      <th>(166.82, 171.567]</th>\n",
              "      <td>2063</td>\n",
              "      <td>12.460739</td>\n",
              "    </tr>\n",
              "    <tr>\n",
              "      <th>(147.833, 152.58]</th>\n",
              "      <td>1782</td>\n",
              "      <td>10.763469</td>\n",
              "    </tr>\n",
              "    <tr>\n",
              "      <th>(171.567, 176.313]</th>\n",
              "      <td>1416</td>\n",
              "      <td>8.552791</td>\n",
              "    </tr>\n",
              "    <tr>\n",
              "      <th>(143.087, 147.833]</th>\n",
              "      <td>1012</td>\n",
              "      <td>6.112588</td>\n",
              "    </tr>\n",
              "    <tr>\n",
              "      <th>(176.313, 181.06]</th>\n",
              "      <td>749</td>\n",
              "      <td>4.524040</td>\n",
              "    </tr>\n",
              "    <tr>\n",
              "      <th>(138.34, 143.087]</th>\n",
              "      <td>484</td>\n",
              "      <td>2.923411</td>\n",
              "    </tr>\n",
              "    <tr>\n",
              "      <th>(181.06, 185.807]</th>\n",
              "      <td>300</td>\n",
              "      <td>1.812032</td>\n",
              "    </tr>\n",
              "    <tr>\n",
              "      <th>(133.593, 138.34]</th>\n",
              "      <td>199</td>\n",
              "      <td>1.201981</td>\n",
              "    </tr>\n",
              "    <tr>\n",
              "      <th>(185.807, 190.553]</th>\n",
              "      <td>94</td>\n",
              "      <td>0.567770</td>\n",
              "    </tr>\n",
              "    <tr>\n",
              "      <th>(128.847, 133.593]</th>\n",
              "      <td>47</td>\n",
              "      <td>0.283885</td>\n",
              "    </tr>\n",
              "    <tr>\n",
              "      <th>(190.553, 195.3]</th>\n",
              "      <td>13</td>\n",
              "      <td>0.078521</td>\n",
              "    </tr>\n",
              "    <tr>\n",
              "      <th>(124.02799999999999, 128.847]</th>\n",
              "      <td>3</td>\n",
              "      <td>0.018120</td>\n",
              "    </tr>\n",
              "  </tbody>\n",
              "</table>\n",
              "</div>"
            ],
            "text/plain": [
              "                               Frequência  Percentual\n",
              "(157.327, 162.073]                   3110   18.784731\n",
              "(152.58, 157.327]                    2734   16.513651\n",
              "(162.073, 166.82]                    2550   15.402271\n",
              "(166.82, 171.567]                    2063   12.460739\n",
              "(147.833, 152.58]                    1782   10.763469\n",
              "(171.567, 176.313]                   1416    8.552791\n",
              "(143.087, 147.833]                   1012    6.112588\n",
              "(176.313, 181.06]                     749    4.524040\n",
              "(138.34, 143.087]                     484    2.923411\n",
              "(181.06, 185.807]                     300    1.812032\n",
              "(133.593, 138.34]                     199    1.201981\n",
              "(185.807, 190.553]                     94    0.567770\n",
              "(128.847, 133.593]                     47    0.283885\n",
              "(190.553, 195.3]                       13    0.078521\n",
              "(124.02799999999999, 128.847]           3    0.018120"
            ]
          },
          "metadata": {
            "tags": []
          },
          "execution_count": 45
        }
      ]
    },
    {
      "cell_type": "markdown",
      "metadata": {
        "id": "8bE1L2oVDkSJ"
      },
      "source": [
        "### Desafio 03: Criar a tabela de frequência para o peso"
      ]
    },
    {
      "cell_type": "code",
      "metadata": {
        "colab": {
          "base_uri": "https://localhost:8080/"
        },
        "id": "kNQWhckXCy7e",
        "outputId": "6422b7c9-d9dd-4eea-e519-752fd93ffcae"
      },
      "source": [
        "dados['CLASSE_PESO'] = pd.cut(x = dados['VB17003'], bins = k, include_lowest=True)\r\n",
        "dados['CLASSE_PESO']"
      ],
      "execution_count": 46,
      "outputs": [
        {
          "output_type": "execute_result",
          "data": {
            "text/plain": [
              "0        (34.94, 46.32]\n",
              "1         (46.32, 57.7]\n",
              "2         (46.32, 57.7]\n",
              "3        (69.08, 80.46]\n",
              "4        (69.08, 80.46]\n",
              "              ...      \n",
              "16551     (46.32, 57.7]\n",
              "16552     (57.7, 69.08]\n",
              "16553     (57.7, 69.08]\n",
              "16554     (46.32, 57.7]\n",
              "16555     (57.7, 69.08]\n",
              "Name: CLASSE_PESO, Length: 16556, dtype: category\n",
              "Categories (15, interval[float64]): [(0.628, 12.18] < (12.18, 23.56] < (23.56, 34.94] <\n",
              "                                     (34.94, 46.32] ... (125.98, 137.36] < (137.36, 148.74] <\n",
              "                                     (148.74, 160.12] < (160.12, 171.5]]"
            ]
          },
          "metadata": {
            "tags": []
          },
          "execution_count": 46
        }
      ]
    },
    {
      "cell_type": "code",
      "metadata": {
        "id": "cAbO8z9FEMQD"
      },
      "source": [
        "def criar_frequencia(classe: str):\r\n",
        "  frequencia = dados[classe].value_counts()\r\n",
        "  percentual = dados[classe].value_counts(normalize=True)*100\r\n",
        "  dist_frequencia = pd.DataFrame({'Frequência': frequencia, 'Percentual': percentual})\r\n",
        "  return dist_frequencia"
      ],
      "execution_count": 47,
      "outputs": []
    },
    {
      "cell_type": "code",
      "metadata": {
        "colab": {
          "base_uri": "https://localhost:8080/",
          "height": 514
        },
        "id": "k4mrj_diEbvI",
        "outputId": "c48bd909-8c2a-4406-9441-fe54b8cf3b74"
      },
      "source": [
        "criar_frequencia('CLASSE_PESO')"
      ],
      "execution_count": 48,
      "outputs": [
        {
          "output_type": "execute_result",
          "data": {
            "text/html": [
              "<div>\n",
              "<style scoped>\n",
              "    .dataframe tbody tr th:only-of-type {\n",
              "        vertical-align: middle;\n",
              "    }\n",
              "\n",
              "    .dataframe tbody tr th {\n",
              "        vertical-align: top;\n",
              "    }\n",
              "\n",
              "    .dataframe thead th {\n",
              "        text-align: right;\n",
              "    }\n",
              "</style>\n",
              "<table border=\"1\" class=\"dataframe\">\n",
              "  <thead>\n",
              "    <tr style=\"text-align: right;\">\n",
              "      <th></th>\n",
              "      <th>Frequência</th>\n",
              "      <th>Percentual</th>\n",
              "    </tr>\n",
              "  </thead>\n",
              "  <tbody>\n",
              "    <tr>\n",
              "      <th>(46.32, 57.7]</th>\n",
              "      <td>5754</td>\n",
              "      <td>34.754772</td>\n",
              "    </tr>\n",
              "    <tr>\n",
              "      <th>(34.94, 46.32]</th>\n",
              "      <td>3852</td>\n",
              "      <td>23.266489</td>\n",
              "    </tr>\n",
              "    <tr>\n",
              "      <th>(57.7, 69.08]</th>\n",
              "      <td>3724</td>\n",
              "      <td>22.493356</td>\n",
              "    </tr>\n",
              "    <tr>\n",
              "      <th>(69.08, 80.46]</th>\n",
              "      <td>1425</td>\n",
              "      <td>8.607151</td>\n",
              "    </tr>\n",
              "    <tr>\n",
              "      <th>(23.56, 34.94]</th>\n",
              "      <td>927</td>\n",
              "      <td>5.599179</td>\n",
              "    </tr>\n",
              "    <tr>\n",
              "      <th>(80.46, 91.84]</th>\n",
              "      <td>544</td>\n",
              "      <td>3.285818</td>\n",
              "    </tr>\n",
              "    <tr>\n",
              "      <th>(91.84, 103.22]</th>\n",
              "      <td>202</td>\n",
              "      <td>1.220101</td>\n",
              "    </tr>\n",
              "    <tr>\n",
              "      <th>(103.22, 114.6]</th>\n",
              "      <td>77</td>\n",
              "      <td>0.465088</td>\n",
              "    </tr>\n",
              "    <tr>\n",
              "      <th>(114.6, 125.98]</th>\n",
              "      <td>20</td>\n",
              "      <td>0.120802</td>\n",
              "    </tr>\n",
              "    <tr>\n",
              "      <th>(125.98, 137.36]</th>\n",
              "      <td>15</td>\n",
              "      <td>0.090602</td>\n",
              "    </tr>\n",
              "    <tr>\n",
              "      <th>(137.36, 148.74]</th>\n",
              "      <td>6</td>\n",
              "      <td>0.036241</td>\n",
              "    </tr>\n",
              "    <tr>\n",
              "      <th>(148.74, 160.12]</th>\n",
              "      <td>4</td>\n",
              "      <td>0.024160</td>\n",
              "    </tr>\n",
              "    <tr>\n",
              "      <th>(12.18, 23.56]</th>\n",
              "      <td>3</td>\n",
              "      <td>0.018120</td>\n",
              "    </tr>\n",
              "    <tr>\n",
              "      <th>(160.12, 171.5]</th>\n",
              "      <td>2</td>\n",
              "      <td>0.012080</td>\n",
              "    </tr>\n",
              "    <tr>\n",
              "      <th>(0.628, 12.18]</th>\n",
              "      <td>1</td>\n",
              "      <td>0.006040</td>\n",
              "    </tr>\n",
              "  </tbody>\n",
              "</table>\n",
              "</div>"
            ],
            "text/plain": [
              "                  Frequência  Percentual\n",
              "(46.32, 57.7]           5754   34.754772\n",
              "(34.94, 46.32]          3852   23.266489\n",
              "(57.7, 69.08]           3724   22.493356\n",
              "(69.08, 80.46]          1425    8.607151\n",
              "(23.56, 34.94]           927    5.599179\n",
              "(80.46, 91.84]           544    3.285818\n",
              "(91.84, 103.22]          202    1.220101\n",
              "(103.22, 114.6]           77    0.465088\n",
              "(114.6, 125.98]           20    0.120802\n",
              "(125.98, 137.36]          15    0.090602\n",
              "(137.36, 148.74]           6    0.036241\n",
              "(148.74, 160.12]           4    0.024160\n",
              "(12.18, 23.56]             3    0.018120\n",
              "(160.12, 171.5]            2    0.012080\n",
              "(0.628, 12.18]             1    0.006040"
            ]
          },
          "metadata": {
            "tags": []
          },
          "execution_count": 48
        }
      ]
    },
    {
      "cell_type": "markdown",
      "metadata": {
        "id": "GJWBW7c0GAGm"
      },
      "source": [
        "Vamos agora cruzar a frequência da pergunta sobre aceitação do corpo com o sexo."
      ]
    },
    {
      "cell_type": "code",
      "metadata": {
        "colab": {
          "base_uri": "https://localhost:8080/",
          "height": 266
        },
        "id": "Bl7EQXkBE6mo",
        "outputId": "1cf98bcd-198b-4534-cf6b-65e39bb31f53"
      },
      "source": [
        "frequencia_cruzada = pd.crosstab(dados['VB11007'], dados['VB01001'])\r\n",
        "frequencia_cruzada.rename(index=respostas, inplace=True)\r\n",
        "frequencia_cruzada.rename(columns={1: 'Masculino', 2: 'Feminino'}, inplace=True)\r\n",
        "frequencia_cruzada"
      ],
      "execution_count": 49,
      "outputs": [
        {
          "output_type": "execute_result",
          "data": {
            "text/html": [
              "<div>\n",
              "<style scoped>\n",
              "    .dataframe tbody tr th:only-of-type {\n",
              "        vertical-align: middle;\n",
              "    }\n",
              "\n",
              "    .dataframe tbody tr th {\n",
              "        vertical-align: top;\n",
              "    }\n",
              "\n",
              "    .dataframe thead th {\n",
              "        text-align: right;\n",
              "    }\n",
              "</style>\n",
              "<table border=\"1\" class=\"dataframe\">\n",
              "  <thead>\n",
              "    <tr style=\"text-align: right;\">\n",
              "      <th>VB01001</th>\n",
              "      <th>Masculino</th>\n",
              "      <th>Feminino</th>\n",
              "    </tr>\n",
              "    <tr>\n",
              "      <th>VB11007</th>\n",
              "      <th></th>\n",
              "      <th></th>\n",
              "    </tr>\n",
              "  </thead>\n",
              "  <tbody>\n",
              "    <tr>\n",
              "      <th>Muito satisfeito(a)</th>\n",
              "      <td>2682</td>\n",
              "      <td>1926</td>\n",
              "    </tr>\n",
              "    <tr>\n",
              "      <th>Satisfeito(a)</th>\n",
              "      <td>3490</td>\n",
              "      <td>3430</td>\n",
              "    </tr>\n",
              "    <tr>\n",
              "      <th>Indiferente</th>\n",
              "      <td>950</td>\n",
              "      <td>857</td>\n",
              "    </tr>\n",
              "    <tr>\n",
              "      <th>Insatisfeito(a)</th>\n",
              "      <td>786</td>\n",
              "      <td>1540</td>\n",
              "    </tr>\n",
              "    <tr>\n",
              "      <th>Muito insatisfeito(a)</th>\n",
              "      <td>260</td>\n",
              "      <td>454</td>\n",
              "    </tr>\n",
              "    <tr>\n",
              "      <th>Não informado</th>\n",
              "      <td>119</td>\n",
              "      <td>62</td>\n",
              "    </tr>\n",
              "  </tbody>\n",
              "</table>\n",
              "</div>"
            ],
            "text/plain": [
              "VB01001                Masculino  Feminino\n",
              "VB11007                                   \n",
              "Muito satisfeito(a)         2682      1926\n",
              "Satisfeito(a)               3490      3430\n",
              "Indiferente                  950       857\n",
              "Insatisfeito(a)              786      1540\n",
              "Muito insatisfeito(a)        260       454\n",
              "Não informado                119        62"
            ]
          },
          "metadata": {
            "tags": []
          },
          "execution_count": 49
        }
      ]
    },
    {
      "cell_type": "markdown",
      "metadata": {
        "id": "Mpq7glJYITGr"
      },
      "source": [
        "Para calcular a porcentagem, vamos adicionar o normalize no pd.crosstab, porém nas colunas"
      ]
    },
    {
      "cell_type": "code",
      "metadata": {
        "colab": {
          "base_uri": "https://localhost:8080/",
          "height": 266
        },
        "id": "Om9s8dloHFtF",
        "outputId": "c17f8842-ca33-4e0c-cbf8-79a4bc986324"
      },
      "source": [
        "frequencia_cruzada = pd.crosstab(dados['VB11007'], dados['VB01001'], normalize='columns') * 100\r\n",
        "frequencia_cruzada.rename(index=respostas, inplace=True)\r\n",
        "frequencia_cruzada.rename(columns={1: 'Masculino', 2: 'Feminino'}, inplace=True)\r\n",
        "frequencia_cruzada"
      ],
      "execution_count": 50,
      "outputs": [
        {
          "output_type": "execute_result",
          "data": {
            "text/html": [
              "<div>\n",
              "<style scoped>\n",
              "    .dataframe tbody tr th:only-of-type {\n",
              "        vertical-align: middle;\n",
              "    }\n",
              "\n",
              "    .dataframe tbody tr th {\n",
              "        vertical-align: top;\n",
              "    }\n",
              "\n",
              "    .dataframe thead th {\n",
              "        text-align: right;\n",
              "    }\n",
              "</style>\n",
              "<table border=\"1\" class=\"dataframe\">\n",
              "  <thead>\n",
              "    <tr style=\"text-align: right;\">\n",
              "      <th>VB01001</th>\n",
              "      <th>Masculino</th>\n",
              "      <th>Feminino</th>\n",
              "    </tr>\n",
              "    <tr>\n",
              "      <th>VB11007</th>\n",
              "      <th></th>\n",
              "      <th></th>\n",
              "    </tr>\n",
              "  </thead>\n",
              "  <tbody>\n",
              "    <tr>\n",
              "      <th>Muito satisfeito(a)</th>\n",
              "      <td>32.363944</td>\n",
              "      <td>23.291813</td>\n",
              "    </tr>\n",
              "    <tr>\n",
              "      <th>Satisfeito(a)</th>\n",
              "      <td>42.114155</td>\n",
              "      <td>41.480227</td>\n",
              "    </tr>\n",
              "    <tr>\n",
              "      <th>Indiferente</th>\n",
              "      <td>11.463738</td>\n",
              "      <td>10.364010</td>\n",
              "    </tr>\n",
              "    <tr>\n",
              "      <th>Insatisfeito(a)</th>\n",
              "      <td>9.484735</td>\n",
              "      <td>18.623776</td>\n",
              "    </tr>\n",
              "    <tr>\n",
              "      <th>Muito insatisfeito(a)</th>\n",
              "      <td>3.137444</td>\n",
              "      <td>5.490386</td>\n",
              "    </tr>\n",
              "    <tr>\n",
              "      <th>Não informado</th>\n",
              "      <td>1.435984</td>\n",
              "      <td>0.749788</td>\n",
              "    </tr>\n",
              "  </tbody>\n",
              "</table>\n",
              "</div>"
            ],
            "text/plain": [
              "VB01001                Masculino   Feminino\n",
              "VB11007                                    \n",
              "Muito satisfeito(a)    32.363944  23.291813\n",
              "Satisfeito(a)          42.114155  41.480227\n",
              "Indiferente            11.463738  10.364010\n",
              "Insatisfeito(a)         9.484735  18.623776\n",
              "Muito insatisfeito(a)   3.137444   5.490386\n",
              "Não informado           1.435984   0.749788"
            ]
          },
          "metadata": {
            "tags": []
          },
          "execution_count": 50
        }
      ]
    },
    {
      "cell_type": "markdown",
      "metadata": {
        "id": "fCPUZDQpJIij"
      },
      "source": [
        "Temos também a possibilidade de fazer a normalização pelo index (pelas linhas)"
      ]
    },
    {
      "cell_type": "code",
      "metadata": {
        "colab": {
          "base_uri": "https://localhost:8080/",
          "height": 266
        },
        "id": "Wi0i3KiLID_Q",
        "outputId": "090bdc43-1541-4416-c3dc-a546842ed9e7"
      },
      "source": [
        "frequencia_cruzada = pd.crosstab(dados['VB11007'], dados['VB01001'], normalize='index')*100\r\n",
        "frequencia_cruzada.rename(index=respostas, inplace=True)\r\n",
        "frequencia_cruzada.rename(columns={1: 'Masculino', 2: 'Feminino'}, inplace=True)\r\n",
        "frequencia_cruzada"
      ],
      "execution_count": 51,
      "outputs": [
        {
          "output_type": "execute_result",
          "data": {
            "text/html": [
              "<div>\n",
              "<style scoped>\n",
              "    .dataframe tbody tr th:only-of-type {\n",
              "        vertical-align: middle;\n",
              "    }\n",
              "\n",
              "    .dataframe tbody tr th {\n",
              "        vertical-align: top;\n",
              "    }\n",
              "\n",
              "    .dataframe thead th {\n",
              "        text-align: right;\n",
              "    }\n",
              "</style>\n",
              "<table border=\"1\" class=\"dataframe\">\n",
              "  <thead>\n",
              "    <tr style=\"text-align: right;\">\n",
              "      <th>VB01001</th>\n",
              "      <th>Masculino</th>\n",
              "      <th>Feminino</th>\n",
              "    </tr>\n",
              "    <tr>\n",
              "      <th>VB11007</th>\n",
              "      <th></th>\n",
              "      <th></th>\n",
              "    </tr>\n",
              "  </thead>\n",
              "  <tbody>\n",
              "    <tr>\n",
              "      <th>Muito satisfeito(a)</th>\n",
              "      <td>58.203125</td>\n",
              "      <td>41.796875</td>\n",
              "    </tr>\n",
              "    <tr>\n",
              "      <th>Satisfeito(a)</th>\n",
              "      <td>50.433526</td>\n",
              "      <td>49.566474</td>\n",
              "    </tr>\n",
              "    <tr>\n",
              "      <th>Indiferente</th>\n",
              "      <td>52.573326</td>\n",
              "      <td>47.426674</td>\n",
              "    </tr>\n",
              "    <tr>\n",
              "      <th>Insatisfeito(a)</th>\n",
              "      <td>33.791917</td>\n",
              "      <td>66.208083</td>\n",
              "    </tr>\n",
              "    <tr>\n",
              "      <th>Muito insatisfeito(a)</th>\n",
              "      <td>36.414566</td>\n",
              "      <td>63.585434</td>\n",
              "    </tr>\n",
              "    <tr>\n",
              "      <th>Não informado</th>\n",
              "      <td>65.745856</td>\n",
              "      <td>34.254144</td>\n",
              "    </tr>\n",
              "  </tbody>\n",
              "</table>\n",
              "</div>"
            ],
            "text/plain": [
              "VB01001                Masculino   Feminino\n",
              "VB11007                                    \n",
              "Muito satisfeito(a)    58.203125  41.796875\n",
              "Satisfeito(a)          50.433526  49.566474\n",
              "Indiferente            52.573326  47.426674\n",
              "Insatisfeito(a)        33.791917  66.208083\n",
              "Muito insatisfeito(a)  36.414566  63.585434\n",
              "Não informado          65.745856  34.254144"
            ]
          },
          "metadata": {
            "tags": []
          },
          "execution_count": 51
        }
      ]
    },
    {
      "cell_type": "markdown",
      "metadata": {
        "id": "XJvHPRlXJw-9"
      },
      "source": [
        "### Desafio 04: Criar outros crosstabs para analisar as perguntas e pesquisar o parâmetro aggfunc para testar em alguns experimentos"
      ]
    },
    {
      "cell_type": "markdown",
      "metadata": {
        "id": "IbB-v4-tyEKh"
      },
      "source": [
        "Vamos criar uma tabela relacionando a idade dos participantes com a região onde moram."
      ]
    },
    {
      "cell_type": "code",
      "metadata": {
        "colab": {
          "base_uri": "https://localhost:8080/",
          "height": 359
        },
        "id": "jfanaiOlJRWS",
        "outputId": "89fec29a-7fb6-497f-e12c-6841d0e08108"
      },
      "source": [
        "idade = {\r\n",
        "    11: '11 anos ou menos',\r\n",
        "    12: '12 anos',\r\n",
        "    13: '13 anos',\r\n",
        "    14: '14 anos',\r\n",
        "    15: '15 anos',\r\n",
        "    16: '16 anos',\r\n",
        "    17: '17 anos',\r\n",
        "    18: '18 anos',\r\n",
        "    19: '19 anos ou mais'\r\n",
        "}\r\n",
        "frequencia_cruzada = pd.crosstab(dados['VB01003'], dados['REGEOGR'], normalize='columns')*100\r\n",
        "frequencia_cruzada.rename(index=idade, inplace=True)\r\n",
        "frequencia_cruzada.rename_axis('Idade', inplace=True)\r\n",
        "frequencia_cruzada.rename(columns={1: 'Norte', 2: 'Nordeste', 3: 'Sudeste', 4: 'Sul', 5: 'Centro-Oeste'}, inplace=True)\r\n",
        "frequencia_cruzada"
      ],
      "execution_count": 68,
      "outputs": [
        {
          "output_type": "execute_result",
          "data": {
            "text/html": [
              "<div>\n",
              "<style scoped>\n",
              "    .dataframe tbody tr th:only-of-type {\n",
              "        vertical-align: middle;\n",
              "    }\n",
              "\n",
              "    .dataframe tbody tr th {\n",
              "        vertical-align: top;\n",
              "    }\n",
              "\n",
              "    .dataframe thead th {\n",
              "        text-align: right;\n",
              "    }\n",
              "</style>\n",
              "<table border=\"1\" class=\"dataframe\">\n",
              "  <thead>\n",
              "    <tr style=\"text-align: right;\">\n",
              "      <th>REGEOGR</th>\n",
              "      <th>Norte</th>\n",
              "      <th>Nordeste</th>\n",
              "      <th>Sudeste</th>\n",
              "      <th>Sul</th>\n",
              "      <th>Centro-Oeste</th>\n",
              "    </tr>\n",
              "    <tr>\n",
              "      <th>Idade</th>\n",
              "      <th></th>\n",
              "      <th></th>\n",
              "      <th></th>\n",
              "      <th></th>\n",
              "      <th></th>\n",
              "    </tr>\n",
              "  </thead>\n",
              "  <tbody>\n",
              "    <tr>\n",
              "      <th>11 anos ou menos</th>\n",
              "      <td>9.598494</td>\n",
              "      <td>12.207792</td>\n",
              "      <td>11.782662</td>\n",
              "      <td>14.655441</td>\n",
              "      <td>14.239766</td>\n",
              "    </tr>\n",
              "    <tr>\n",
              "      <th>12 anos</th>\n",
              "      <td>15.432873</td>\n",
              "      <td>15.699856</td>\n",
              "      <td>19.474969</td>\n",
              "      <td>13.314624</td>\n",
              "      <td>15.584795</td>\n",
              "    </tr>\n",
              "    <tr>\n",
              "      <th>13 anos</th>\n",
              "      <td>18.381430</td>\n",
              "      <td>12.265512</td>\n",
              "      <td>15.384615</td>\n",
              "      <td>13.096352</td>\n",
              "      <td>18.304094</td>\n",
              "    </tr>\n",
              "    <tr>\n",
              "      <th>14 anos</th>\n",
              "      <td>14.774153</td>\n",
              "      <td>11.572872</td>\n",
              "      <td>9.615385</td>\n",
              "      <td>12.753352</td>\n",
              "      <td>15.701754</td>\n",
              "    </tr>\n",
              "    <tr>\n",
              "      <th>15 anos</th>\n",
              "      <td>13.707654</td>\n",
              "      <td>16.392496</td>\n",
              "      <td>13.644689</td>\n",
              "      <td>16.806985</td>\n",
              "      <td>12.690058</td>\n",
              "    </tr>\n",
              "    <tr>\n",
              "      <th>16 anos</th>\n",
              "      <td>12.703890</td>\n",
              "      <td>15.007215</td>\n",
              "      <td>14.346764</td>\n",
              "      <td>14.624259</td>\n",
              "      <td>11.871345</td>\n",
              "    </tr>\n",
              "    <tr>\n",
              "      <th>17 anos</th>\n",
              "      <td>7.528231</td>\n",
              "      <td>10.476190</td>\n",
              "      <td>10.592186</td>\n",
              "      <td>9.822264</td>\n",
              "      <td>7.953216</td>\n",
              "    </tr>\n",
              "    <tr>\n",
              "      <th>18 anos</th>\n",
              "      <td>3.293601</td>\n",
              "      <td>4.011544</td>\n",
              "      <td>3.540904</td>\n",
              "      <td>3.398815</td>\n",
              "      <td>2.748538</td>\n",
              "    </tr>\n",
              "    <tr>\n",
              "      <th>19 anos ou mais</th>\n",
              "      <td>4.579674</td>\n",
              "      <td>2.366522</td>\n",
              "      <td>1.617827</td>\n",
              "      <td>1.527908</td>\n",
              "      <td>0.906433</td>\n",
              "    </tr>\n",
              "  </tbody>\n",
              "</table>\n",
              "</div>"
            ],
            "text/plain": [
              "REGEOGR               Norte   Nordeste    Sudeste        Sul  Centro-Oeste\n",
              "Idade                                                                     \n",
              "11 anos ou menos   9.598494  12.207792  11.782662  14.655441     14.239766\n",
              "12 anos           15.432873  15.699856  19.474969  13.314624     15.584795\n",
              "13 anos           18.381430  12.265512  15.384615  13.096352     18.304094\n",
              "14 anos           14.774153  11.572872   9.615385  12.753352     15.701754\n",
              "15 anos           13.707654  16.392496  13.644689  16.806985     12.690058\n",
              "16 anos           12.703890  15.007215  14.346764  14.624259     11.871345\n",
              "17 anos            7.528231  10.476190  10.592186   9.822264      7.953216\n",
              "18 anos            3.293601   4.011544   3.540904   3.398815      2.748538\n",
              "19 anos ou mais    4.579674   2.366522   1.617827   1.527908      0.906433"
            ]
          },
          "metadata": {
            "tags": []
          },
          "execution_count": 68
        }
      ]
    },
    {
      "cell_type": "markdown",
      "metadata": {
        "id": "J5CNmXg9ytVu"
      },
      "source": [
        "Agora, sabendo que a maioria dos alunos, em todas as regiões, é menor de idade, vamos analisar a porcentagem de alunos que possuem algum tipo de trabalho"
      ]
    },
    {
      "cell_type": "code",
      "metadata": {
        "colab": {
          "base_uri": "https://localhost:8080/",
          "height": 173
        },
        "id": "l8kBB0R8oFGw",
        "outputId": "402afb80-6b36-4c7e-8b67-5058528f5362"
      },
      "source": [
        "frequencia_cruzada = pd.crosstab(dados['VB01011'], dados['REGEOGR'], normalize='columns')*100\r\n",
        "frequencia_cruzada.rename(index={1: 'Sim', 2: 'Não', 3: 'Não informado'}, inplace=True)\r\n",
        "frequencia_cruzada.rename_axis('Você trabalha?', inplace=True)\r\n",
        "frequencia_cruzada.rename(columns={1: 'Norte', 2: 'Nordeste', 3: 'Sudeste', 4: 'Sul', 5: 'Centro-Oeste'}, inplace=True)\r\n",
        "frequencia_cruzada"
      ],
      "execution_count": 69,
      "outputs": [
        {
          "output_type": "execute_result",
          "data": {
            "text/html": [
              "<div>\n",
              "<style scoped>\n",
              "    .dataframe tbody tr th:only-of-type {\n",
              "        vertical-align: middle;\n",
              "    }\n",
              "\n",
              "    .dataframe tbody tr th {\n",
              "        vertical-align: top;\n",
              "    }\n",
              "\n",
              "    .dataframe thead th {\n",
              "        text-align: right;\n",
              "    }\n",
              "</style>\n",
              "<table border=\"1\" class=\"dataframe\">\n",
              "  <thead>\n",
              "    <tr style=\"text-align: right;\">\n",
              "      <th>REGEOGR</th>\n",
              "      <th>Norte</th>\n",
              "      <th>Nordeste</th>\n",
              "      <th>Sudeste</th>\n",
              "      <th>Sul</th>\n",
              "      <th>Centro-Oeste</th>\n",
              "    </tr>\n",
              "    <tr>\n",
              "      <th>Você trabalha?</th>\n",
              "      <th></th>\n",
              "      <th></th>\n",
              "      <th></th>\n",
              "      <th></th>\n",
              "      <th></th>\n",
              "    </tr>\n",
              "  </thead>\n",
              "  <tbody>\n",
              "    <tr>\n",
              "      <th>Sim</th>\n",
              "      <td>14.335006</td>\n",
              "      <td>11.139971</td>\n",
              "      <td>14.774115</td>\n",
              "      <td>20.486436</td>\n",
              "      <td>14.239766</td>\n",
              "    </tr>\n",
              "    <tr>\n",
              "      <th>Não</th>\n",
              "      <td>85.664994</td>\n",
              "      <td>88.831169</td>\n",
              "      <td>85.195360</td>\n",
              "      <td>79.326473</td>\n",
              "      <td>85.584795</td>\n",
              "    </tr>\n",
              "    <tr>\n",
              "      <th>99</th>\n",
              "      <td>0.000000</td>\n",
              "      <td>0.028860</td>\n",
              "      <td>0.030525</td>\n",
              "      <td>0.187091</td>\n",
              "      <td>0.175439</td>\n",
              "    </tr>\n",
              "  </tbody>\n",
              "</table>\n",
              "</div>"
            ],
            "text/plain": [
              "REGEOGR             Norte   Nordeste    Sudeste        Sul  Centro-Oeste\n",
              "Você trabalha?                                                          \n",
              "Sim             14.335006  11.139971  14.774115  20.486436     14.239766\n",
              "Não             85.664994  88.831169  85.195360  79.326473     85.584795\n",
              "99               0.000000   0.028860   0.030525   0.187091      0.175439"
            ]
          },
          "metadata": {
            "tags": []
          },
          "execution_count": 69
        }
      ]
    },
    {
      "cell_type": "markdown",
      "metadata": {
        "id": "hWSvGOL2y6h_"
      },
      "source": [
        "Mesmo com a maior porte dos alunos sendo menor de idade, podemos verificar que a taxa de alunos que trabalham é relevante, especialmente na região Sul (20,5%)."
      ]
    },
    {
      "cell_type": "markdown",
      "metadata": {
        "id": "GnYcx68VzNfm"
      },
      "source": [
        "Outro ponto interessante para analisarmos: qual o motivo pelo qual os alunos sofreram bulling? Na tabela abaixo vamos analisar porque meninos e meninas se sentiram zombados ou humilhados."
      ]
    },
    {
      "cell_type": "code",
      "metadata": {
        "colab": {
          "base_uri": "https://localhost:8080/",
          "height": 359
        },
        "id": "7pmiZzxao0Li",
        "outputId": "a47051e5-e805-4bfa-f193-d8468dd44593"
      },
      "source": [
        "respostas = {\r\n",
        "    -1: 'Sem resposta',\r\n",
        "    1: 'Cor ou raça',\r\n",
        "    2: 'Religião',\r\n",
        "    3: 'Aparência do rosto',\r\n",
        "    4: 'Aparência do corpo',\r\n",
        "    5: 'Orientação sexual',\r\n",
        "    6: 'Região de origem',\r\n",
        "    7: 'Outros motivos',\r\n",
        "    99: 'Não informado'\r\n",
        "}\r\n",
        "frequencia_cruzada = pd.crosstab(dados['VB07008'], dados['VB01001'], normalize='index')*100\r\n",
        "frequencia_cruzada.rename(index=respostas, inplace=True)\r\n",
        "frequencia_cruzada.rename_axis('Motivo de Bulling', inplace=True)\r\n",
        "frequencia_cruzada.rename(columns={1: 'Masculino', 2: 'Feminino'}, inplace=True)\r\n",
        "frequencia_cruzada"
      ],
      "execution_count": 70,
      "outputs": [
        {
          "output_type": "execute_result",
          "data": {
            "text/html": [
              "<div>\n",
              "<style scoped>\n",
              "    .dataframe tbody tr th:only-of-type {\n",
              "        vertical-align: middle;\n",
              "    }\n",
              "\n",
              "    .dataframe tbody tr th {\n",
              "        vertical-align: top;\n",
              "    }\n",
              "\n",
              "    .dataframe thead th {\n",
              "        text-align: right;\n",
              "    }\n",
              "</style>\n",
              "<table border=\"1\" class=\"dataframe\">\n",
              "  <thead>\n",
              "    <tr style=\"text-align: right;\">\n",
              "      <th>VB01001</th>\n",
              "      <th>Masculino</th>\n",
              "      <th>Feminino</th>\n",
              "    </tr>\n",
              "    <tr>\n",
              "      <th>Motivo de Bulling</th>\n",
              "      <th></th>\n",
              "      <th></th>\n",
              "    </tr>\n",
              "  </thead>\n",
              "  <tbody>\n",
              "    <tr>\n",
              "      <th>Sem resposta</th>\n",
              "      <td>49.113514</td>\n",
              "      <td>50.886486</td>\n",
              "    </tr>\n",
              "    <tr>\n",
              "      <th>Cor ou raça</th>\n",
              "      <td>65.508685</td>\n",
              "      <td>34.491315</td>\n",
              "    </tr>\n",
              "    <tr>\n",
              "      <th>Religião</th>\n",
              "      <td>56.846473</td>\n",
              "      <td>43.153527</td>\n",
              "    </tr>\n",
              "    <tr>\n",
              "      <th>Aparência do rosto</th>\n",
              "      <td>55.177305</td>\n",
              "      <td>44.822695</td>\n",
              "    </tr>\n",
              "    <tr>\n",
              "      <th>Aparência do corpo</th>\n",
              "      <td>44.414414</td>\n",
              "      <td>55.585586</td>\n",
              "    </tr>\n",
              "    <tr>\n",
              "      <th>Orientação sexual</th>\n",
              "      <td>71.875000</td>\n",
              "      <td>28.125000</td>\n",
              "    </tr>\n",
              "    <tr>\n",
              "      <th>Região de origem</th>\n",
              "      <td>57.142857</td>\n",
              "      <td>42.857143</td>\n",
              "    </tr>\n",
              "    <tr>\n",
              "      <th>Outros motivos</th>\n",
              "      <td>49.766095</td>\n",
              "      <td>50.233905</td>\n",
              "    </tr>\n",
              "    <tr>\n",
              "      <th>Não informado</th>\n",
              "      <td>55.696203</td>\n",
              "      <td>44.303797</td>\n",
              "    </tr>\n",
              "  </tbody>\n",
              "</table>\n",
              "</div>"
            ],
            "text/plain": [
              "VB01001             Masculino   Feminino\n",
              "Motivo de Bulling                       \n",
              "Sem resposta        49.113514  50.886486\n",
              "Cor ou raça         65.508685  34.491315\n",
              "Religião            56.846473  43.153527\n",
              "Aparência do rosto  55.177305  44.822695\n",
              "Aparência do corpo  44.414414  55.585586\n",
              "Orientação sexual   71.875000  28.125000\n",
              "Região de origem    57.142857  42.857143\n",
              "Outros motivos      49.766095  50.233905\n",
              "Não informado       55.696203  44.303797"
            ]
          },
          "metadata": {
            "tags": []
          },
          "execution_count": 70
        }
      ]
    },
    {
      "cell_type": "markdown",
      "metadata": {
        "id": "xanxgAGb0Jq2"
      },
      "source": [
        "Podemos observar que meninas se sofrem mais com a aparência do corpo enquanto meninos sofrem com orientação sexual, etinia e região de origem."
      ]
    },
    {
      "cell_type": "markdown",
      "metadata": {
        "id": "z20HFrZt0qFb"
      },
      "source": [
        "Agora com a noralização pela coluna para avaliarmos também essa tendência."
      ]
    },
    {
      "cell_type": "code",
      "metadata": {
        "colab": {
          "base_uri": "https://localhost:8080/",
          "height": 359
        },
        "id": "rTaZAsmJroYb",
        "outputId": "0235df4a-8d69-4cbd-9b12-9745ec8204a6"
      },
      "source": [
        "frequencia_cruzada = pd.crosstab(dados['VB07008'], dados['VB01001'], normalize='columns')*100\r\n",
        "frequencia_cruzada.rename(index=respostas, inplace=True)\r\n",
        "frequencia_cruzada.rename(columns={1: 'Masculino', 2: 'Feminino'}, inplace=True)\r\n",
        "frequencia_cruzada"
      ],
      "execution_count": 73,
      "outputs": [
        {
          "output_type": "execute_result",
          "data": {
            "text/html": [
              "<div>\n",
              "<style scoped>\n",
              "    .dataframe tbody tr th:only-of-type {\n",
              "        vertical-align: middle;\n",
              "    }\n",
              "\n",
              "    .dataframe tbody tr th {\n",
              "        vertical-align: top;\n",
              "    }\n",
              "\n",
              "    .dataframe thead th {\n",
              "        text-align: right;\n",
              "    }\n",
              "</style>\n",
              "<table border=\"1\" class=\"dataframe\">\n",
              "  <thead>\n",
              "    <tr style=\"text-align: right;\">\n",
              "      <th>VB01001</th>\n",
              "      <th>Masculino</th>\n",
              "      <th>Feminino</th>\n",
              "    </tr>\n",
              "    <tr>\n",
              "      <th>VB07008</th>\n",
              "      <th></th>\n",
              "      <th></th>\n",
              "    </tr>\n",
              "  </thead>\n",
              "  <tbody>\n",
              "    <tr>\n",
              "      <th>Sem resposta</th>\n",
              "      <td>54.820804</td>\n",
              "      <td>56.923449</td>\n",
              "    </tr>\n",
              "    <tr>\n",
              "      <th>Cor ou raça</th>\n",
              "      <td>3.185713</td>\n",
              "      <td>1.680977</td>\n",
              "    </tr>\n",
              "    <tr>\n",
              "      <th>Religião</th>\n",
              "      <td>1.653192</td>\n",
              "      <td>1.257710</td>\n",
              "    </tr>\n",
              "    <tr>\n",
              "      <th>Aparência do rosto</th>\n",
              "      <td>4.694099</td>\n",
              "      <td>3.821502</td>\n",
              "    </tr>\n",
              "    <tr>\n",
              "      <th>Aparência do corpo</th>\n",
              "      <td>5.949077</td>\n",
              "      <td>7.461604</td>\n",
              "    </tr>\n",
              "    <tr>\n",
              "      <th>Orientação sexual</th>\n",
              "      <td>1.387716</td>\n",
              "      <td>0.544201</td>\n",
              "    </tr>\n",
              "    <tr>\n",
              "      <th>Região de origem</th>\n",
              "      <td>0.820562</td>\n",
              "      <td>0.616761</td>\n",
              "    </tr>\n",
              "    <tr>\n",
              "      <th>Outros motivos</th>\n",
              "      <td>26.957886</td>\n",
              "      <td>27.270528</td>\n",
              "    </tr>\n",
              "    <tr>\n",
              "      <th>Não informado</th>\n",
              "      <td>0.530952</td>\n",
              "      <td>0.423268</td>\n",
              "    </tr>\n",
              "  </tbody>\n",
              "</table>\n",
              "</div>"
            ],
            "text/plain": [
              "VB01001             Masculino   Feminino\n",
              "VB07008                                 \n",
              "Sem resposta        54.820804  56.923449\n",
              "Cor ou raça          3.185713   1.680977\n",
              "Religião             1.653192   1.257710\n",
              "Aparência do rosto   4.694099   3.821502\n",
              "Aparência do corpo   5.949077   7.461604\n",
              "Orientação sexual    1.387716   0.544201\n",
              "Região de origem     0.820562   0.616761\n",
              "Outros motivos      26.957886  27.270528\n",
              "Não informado        0.530952   0.423268"
            ]
          },
          "metadata": {
            "tags": []
          },
          "execution_count": 73
        }
      ]
    },
    {
      "cell_type": "markdown",
      "metadata": {
        "id": "HEMKPVs-02oA"
      },
      "source": [
        "Para usarmos o parâmetro aggfunc, vamos analisar a média das idades de cada uma das respostas sobre bulling."
      ]
    },
    {
      "cell_type": "code",
      "metadata": {
        "colab": {
          "base_uri": "https://localhost:8080/",
          "height": 359
        },
        "id": "y1bPaNpRr2Nc",
        "outputId": "199e6d9d-aa1c-401d-e4d4-46f9130af6f5"
      },
      "source": [
        "frequencia_cruzada = pd.crosstab(dados['VB07008'], dados['VB01001'], values=dados['VB01003'], aggfunc=np.mean)\r\n",
        "frequencia_cruzada.rename(index=respostas, inplace=True)\r\n",
        "frequencia_cruzada.rename(columns={1: 'Masculino', 2: 'Feminino'}, inplace=True)\r\n",
        "frequencia_cruzada"
      ],
      "execution_count": 74,
      "outputs": [
        {
          "output_type": "execute_result",
          "data": {
            "text/html": [
              "<div>\n",
              "<style scoped>\n",
              "    .dataframe tbody tr th:only-of-type {\n",
              "        vertical-align: middle;\n",
              "    }\n",
              "\n",
              "    .dataframe tbody tr th {\n",
              "        vertical-align: top;\n",
              "    }\n",
              "\n",
              "    .dataframe thead th {\n",
              "        text-align: right;\n",
              "    }\n",
              "</style>\n",
              "<table border=\"1\" class=\"dataframe\">\n",
              "  <thead>\n",
              "    <tr style=\"text-align: right;\">\n",
              "      <th>VB01001</th>\n",
              "      <th>Masculino</th>\n",
              "      <th>Feminino</th>\n",
              "    </tr>\n",
              "    <tr>\n",
              "      <th>VB07008</th>\n",
              "      <th></th>\n",
              "      <th></th>\n",
              "    </tr>\n",
              "  </thead>\n",
              "  <tbody>\n",
              "    <tr>\n",
              "      <th>Sem resposta</th>\n",
              "      <td>14.259960</td>\n",
              "      <td>14.156363</td>\n",
              "    </tr>\n",
              "    <tr>\n",
              "      <th>Cor ou raça</th>\n",
              "      <td>13.992424</td>\n",
              "      <td>14.043165</td>\n",
              "    </tr>\n",
              "    <tr>\n",
              "      <th>Religião</th>\n",
              "      <td>14.503650</td>\n",
              "      <td>14.048077</td>\n",
              "    </tr>\n",
              "    <tr>\n",
              "      <th>Aparência do rosto</th>\n",
              "      <td>13.850900</td>\n",
              "      <td>13.712025</td>\n",
              "    </tr>\n",
              "    <tr>\n",
              "      <th>Aparência do corpo</th>\n",
              "      <td>13.892495</td>\n",
              "      <td>13.834684</td>\n",
              "    </tr>\n",
              "    <tr>\n",
              "      <th>Orientação sexual</th>\n",
              "      <td>14.660870</td>\n",
              "      <td>14.044444</td>\n",
              "    </tr>\n",
              "    <tr>\n",
              "      <th>Região de origem</th>\n",
              "      <td>13.970588</td>\n",
              "      <td>14.882353</td>\n",
              "    </tr>\n",
              "    <tr>\n",
              "      <th>Outros motivos</th>\n",
              "      <td>14.092659</td>\n",
              "      <td>13.836364</td>\n",
              "    </tr>\n",
              "    <tr>\n",
              "      <th>Não informado</th>\n",
              "      <td>13.159091</td>\n",
              "      <td>13.285714</td>\n",
              "    </tr>\n",
              "  </tbody>\n",
              "</table>\n",
              "</div>"
            ],
            "text/plain": [
              "VB01001             Masculino   Feminino\n",
              "VB07008                                 \n",
              "Sem resposta        14.259960  14.156363\n",
              "Cor ou raça         13.992424  14.043165\n",
              "Religião            14.503650  14.048077\n",
              "Aparência do rosto  13.850900  13.712025\n",
              "Aparência do corpo  13.892495  13.834684\n",
              "Orientação sexual   14.660870  14.044444\n",
              "Região de origem    13.970588  14.882353\n",
              "Outros motivos      14.092659  13.836364\n",
              "Não informado       13.159091  13.285714"
            ]
          },
          "metadata": {
            "tags": []
          },
          "execution_count": 74
        }
      ]
    },
    {
      "cell_type": "code",
      "metadata": {
        "id": "AgygqPnHtkcB"
      },
      "source": [
        ""
      ],
      "execution_count": null,
      "outputs": []
    }
  ]
}